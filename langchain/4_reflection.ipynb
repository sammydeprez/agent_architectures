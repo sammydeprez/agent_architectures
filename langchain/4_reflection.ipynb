{
 "cells": [
  {
   "cell_type": "markdown",
   "id": "f6ab4402",
   "metadata": {},
   "source": [
    "# 4. Reflection"
   ]
  },
  {
   "cell_type": "code",
   "execution_count": 1,
   "id": "aa434df4",
   "metadata": {},
   "outputs": [],
   "source": [
    "from langchain_openai import AzureChatOpenAI\n",
    "from langchain_core.messages import HumanMessage, SystemMessage, AIMessage\n",
    "from typing import Literal\n",
    "from langgraph.types import Command\n",
    "from langgraph.graph import END"
   ]
  },
  {
   "cell_type": "code",
   "execution_count": 2,
   "id": "94a0b8f9",
   "metadata": {},
   "outputs": [],
   "source": [
    "llm = AzureChatOpenAI(model=\"gpt-4.1-mini\")"
   ]
  },
  {
   "cell_type": "code",
   "execution_count": 3,
   "id": "d6276a42",
   "metadata": {},
   "outputs": [],
   "source": [
    "def joke(state) -> str:\n",
    "    print(\"Node: Joke\")\n",
    "    response = llm.invoke(input=state[\"messages\"])\n",
    "\n",
    "    return {\n",
    "        \"messages\": [response]\n",
    "    }"
   ]
  },
  {
   "cell_type": "code",
   "execution_count": 4,
   "id": "15de795a",
   "metadata": {},
   "outputs": [],
   "source": [
    "def reflection(state) -> Command[Literal[\"joke\", \"__end__\"]]:\n",
    "    print(\"Node: Reflection\")\n",
    "    joke_message = state[\"messages\"][-1].content\n",
    "    if \"cat\" in joke_message.lower():\n",
    "        return Command(\n",
    "            goto=\"joke\",\n",
    "            update={\"messages\": [AIMessage(content=\"Joke contains the word 'cat', which is not allowed. Use different wording.\")]}\n",
    "        )\n",
    "    else:\n",
    "        return Command(\n",
    "            goto=END\n",
    "        )"
   ]
  },
  {
   "cell_type": "code",
   "execution_count": 5,
   "id": "20d0eb51",
   "metadata": {},
   "outputs": [],
   "source": [
    "from langgraph.graph import StateGraph, START\n",
    "from langgraph.graph import MessagesState\n",
    "\n",
    "builder = StateGraph(MessagesState)\n",
    "\n",
    "builder.add_node(\"joke\", joke)\n",
    "builder.add_node(\"reflection\", reflection)\n",
    "\n",
    "builder.add_edge(START, \"joke\")\n",
    "builder.add_edge(\"joke\", \"reflection\")\n",
    "\n",
    "graph = builder.compile()"
   ]
  },
  {
   "cell_type": "code",
   "execution_count": 6,
   "id": "1c6948ba",
   "metadata": {},
   "outputs": [
    {
     "data": {
      "image/png": "[encoded data removed]",
      "text/plain": [
       "<IPython.core.display.Image object>"
      ]
     },
     "execution_count": 6,
     "metadata": {},
     "output_type": "execute_result"
    }
   ],
   "source": [
    "from IPython.display import Image\n",
    "Image(graph.get_graph().draw_mermaid_png())"
   ]
  },
  {
   "cell_type": "code",
   "execution_count": 7,
   "id": "446e702f",
   "metadata": {},
   "outputs": [
    {
     "name": "stdout",
     "output_type": "stream",
     "text": [
      "Node: Joke\n",
      "Node: Reflection\n",
      "Node: Joke\n",
      "Node: Reflection\n",
      "================================\u001b[1m System Message \u001b[0m================================\n",
      "\n",
      "You are a helpful assistant that can provide weather information for specific cities.\n",
      "================================\u001b[1m Human Message \u001b[0m=================================\n",
      "\n",
      "Tell me a joke about Cats\n",
      "==================================\u001b[1m Ai Message \u001b[0m==================================\n",
      "\n",
      "Sure! Here's a cat joke for you:\n",
      "\n",
      "Why don’t cats play poker in the jungle?\n",
      "\n",
      "Too many cheetahs!\n",
      "==================================\u001b[1m Ai Message \u001b[0m==================================\n",
      "\n",
      "Joke contains the word 'cat', which is not allowed. Use different wording.\n",
      "==================================\u001b[1m Ai Message \u001b[0m==================================\n",
      "\n",
      "Why did the kitty sit on the computer?\n",
      "\n",
      "Because it wanted to keep an eye on the mouse!\n"
     ]
    }
   ],
   "source": [
    "messages = [\n",
    "    SystemMessage(\n",
    "        content=\"You are a helpful assistant that can provide weather information for specific cities.\"\n",
    "    ),\n",
    "    HumanMessage(\n",
    "        content=\"Tell me a joke about Cats\"\n",
    "    )\n",
    "]\n",
    "\n",
    "response = graph.invoke(\n",
    "    input= {\"messages\": messages}\n",
    ")\n",
    "\n",
    "for msg in response[\"messages\"]:\n",
    "    msg.pretty_print()"
   ]
  },
  {
   "cell_type": "code",
   "execution_count": null,
   "id": "9b28874c",
   "metadata": {},
   "outputs": [],
   "source": []
  }
 ],
 "metadata": {
  "kernelspec": {
   "display_name": ".venv",
   "language": "python",
   "name": "python3"
  },
  "language_info": {
   "codemirror_mode": {
    "name": "ipython",
    "version": 3
   },
   "file_extension": ".py",
   "mimetype": "text/x-python",
   "name": "python",
   "nbconvert_exporter": "python",
   "pygments_lexer": "ipython3",
   "version": "3.11.9"
  }
 },
 "nbformat": 4,
 "nbformat_minor": 5
}
