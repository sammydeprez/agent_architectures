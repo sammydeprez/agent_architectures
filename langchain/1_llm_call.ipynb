{
 "cells": [
  {
   "cell_type": "markdown",
   "id": "d518d075",
   "metadata": {},
   "source": [
    "# 1. Simple LLM Call"
   ]
  },
  {
   "cell_type": "markdown",
   "id": "fae09436",
   "metadata": {},
   "source": [
    "An LLM call is the simplest agent that is there. It can not execute any actions, it only returns tokens that fit to your prompt."
   ]
  },
  {
   "cell_type": "code",
   "execution_count": 6,
   "id": "8630f870",
   "metadata": {},
   "outputs": [],
   "source": [
    "from langchain_openai import AzureChatOpenAI\n",
    "from langchain_core.messages import HumanMessage, SystemMessage"
   ]
  },
  {
   "cell_type": "markdown",
   "id": "d478aad6",
   "metadata": {},
   "source": [
    "Define the model"
   ]
  },
  {
   "cell_type": "code",
   "execution_count": 7,
   "id": "b1f16949",
   "metadata": {},
   "outputs": [],
   "source": [
    "llm = AzureChatOpenAI(model=\"gpt-4.1-mini\")"
   ]
  },
  {
   "cell_type": "markdown",
   "id": "a19416f7",
   "metadata": {},
   "source": [
    "Set prompt"
   ]
  },
  {
   "cell_type": "code",
   "execution_count": 8,
   "id": "39ceb23d",
   "metadata": {},
   "outputs": [],
   "source": [
    "messages = [\n",
    "    SystemMessage(\"You are a travel expert. Based on the user's input, suggest 1 travel destination.\"),\n",
    "    HumanMessage(\"Cat\")\n",
    "]"
   ]
  },
  {
   "cell_type": "markdown",
   "id": "ac4a3b13",
   "metadata": {},
   "source": [
    "Call the llm/agent"
   ]
  },
  {
   "cell_type": "code",
   "execution_count": 9,
   "id": "66240557",
   "metadata": {},
   "outputs": [],
   "source": [
    "\n",
    "response = llm.invoke(input=messages)\n",
    "messages.append(response)"
   ]
  },
  {
   "cell_type": "markdown",
   "id": "034b7559",
   "metadata": {},
   "source": [
    "Print result"
   ]
  },
  {
   "cell_type": "code",
   "execution_count": 10,
   "id": "b16921fc",
   "metadata": {},
   "outputs": [
    {
     "name": "stdout",
     "output_type": "stream",
     "text": [
      "================================\u001b[1m System Message \u001b[0m================================\n",
      "\n",
      "You are a travel expert. Based on the user's input, suggest 1 travel destination.\n",
      "================================\u001b[1m Human Message \u001b[0m=================================\n",
      "\n",
      "Cat\n",
      "==================================\u001b[1m Ai Message \u001b[0m==================================\n",
      "\n",
      "If you love cats, consider visiting **Kyoto, Japan**. The city is known for its beautiful temples and traditional culture, but also for the famous Cat Island, Tashirojima, which is not far from there. Tashirojima is a small island where cats roam freely and are considered good luck. You can enjoy a peaceful visit surrounded by friendly felines in a serene setting.\n"
     ]
    }
   ],
   "source": [
    "for msg in messages:\n",
    "    msg.pretty_print()"
   ]
  }
 ],
 "metadata": {
  "kernelspec": {
   "display_name": ".venv",
   "language": "python",
   "name": "python3"
  },
  "language_info": {
   "codemirror_mode": {
    "name": "ipython",
    "version": 3
   },
   "file_extension": ".py",
   "mimetype": "text/x-python",
   "name": "python",
   "nbconvert_exporter": "python",
   "pygments_lexer": "ipython3",
   "version": "3.11.9"
  }
 },
 "nbformat": 4,
 "nbformat_minor": 5
}
