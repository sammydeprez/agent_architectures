{
 "cells": [
  {
   "cell_type": "markdown",
   "id": "d77aa15d",
   "metadata": {},
   "source": [
    "# 5. Parallelism\n",
    "\n",
    "## Overview\n",
    "\n",
    "The Parallelism pattern enables concurrent execution of multiple agents or tasks, dramatically improving performance and efficiency. This architecture allows:\n",
    "\n",
    "- **Concurrent processing** of independent tasks\n",
    "- **Faster response times** through parallel execution\n",
    "- **Resource optimization** by utilizing multiple cores/workers\n",
    "- **Scalable task distribution** across different agents\n",
    "\n",
    "### Key Benefits\n",
    "\n",
    "1. **Performance**: Execute multiple operations simultaneously\n",
    "2. **Efficiency**: Better resource utilization\n",
    "3. **Scalability**: Handle larger workloads\n",
    "4. **Flexibility**: Combine results from different specialized agents\n",
    "\n",
    "### Common Use Cases\n",
    "\n",
    "- **Data processing pipelines** with independent operations\n",
    "- **Multi-source information gathering** (weather + news + traffic)\n",
    "- **Content generation** for different formats simultaneously\n",
    "- **Batch processing** of similar tasks\n",
    "\n",
    "## Implementation Steps"
   ]
  },
  {
   "cell_type": "code",
   "execution_count": 1,
   "id": "0d579b1e",
   "metadata": {},
   "outputs": [],
   "source": [
    "from langchain_openai import AzureChatOpenAI\n",
    "from langchain_core.messages import HumanMessage\n",
    "from langgraph.types import Command\n",
    "from langgraph.constants import Send\n",
    "from typing import TypedDict, Literal\n",
    "from typing_extensions import Annotated\n",
    "import operator"
   ]
  },
  {
   "cell_type": "code",
   "execution_count": 2,
   "id": "2b5079b0",
   "metadata": {},
   "outputs": [],
   "source": [
    "llm = AzureChatOpenAI(model=\"gpt-4.1-mini\")"
   ]
  },
  {
   "cell_type": "code",
   "execution_count": 3,
   "id": "9712b29b",
   "metadata": {},
   "outputs": [],
   "source": [
    "class OurCustomState(TypedDict):\n",
    "    cities: list[str]\n",
    "    facts: Annotated[list, operator.add]\n",
    "\n",
    "class CityState(TypedDict):\n",
    "    city: str"
   ]
  },
  {
   "cell_type": "code",
   "execution_count": 4,
   "id": "30c5515f",
   "metadata": {},
   "outputs": [],
   "source": [
    "def city_advice(state:CityState) -> str:\n",
    "    print(\"Node: CityAdvice\")\n",
    "    response = llm.invoke(input=[HumanMessage(content=f\"Tell me 3 interesting facts about {state['city']}. \" \\\n",
    "                                              \"Only return the facts, no other text. Use a numbered list.\" \\\n",
    "                                              \"Start with the city name. Ex. # CityName\")])\n",
    "\n",
    "    return {\n",
    "        \"facts\": [response.content]\n",
    "    }"
   ]
  },
  {
   "cell_type": "code",
   "execution_count": 11,
   "id": "35025750",
   "metadata": {},
   "outputs": [],
   "source": [
    "def random_city_generator(state: OurCustomState) -> Command[Literal[\"city_advice\", \"final_node\"]]:\n",
    "    print(\"Node: Random City Generator\")\n",
    "    response = llm.invoke(input=\"Return 3 random city names in India, comma separated.\")\n",
    "    cities = response.content.split(\",\")\n",
    "    if len(cities) > 0:\n",
    "        return Command(\n",
    "            update={\n",
    "                \"cities\": cities\n",
    "            },\n",
    "            goto=[\n",
    "                Send(\n",
    "                    node = \"city_advice\",\n",
    "                    arg = {\n",
    "                        \"city\": city.strip()\n",
    "                    }\n",
    "                )\n",
    "            for city in cities]\n",
    "        )\n",
    "    else:\n",
    "        return Command(\n",
    "            update={\n",
    "                \"cities\": []\n",
    "            },\n",
    "            goto=[\"final_node\"]\n",
    "        )"
   ]
  },
  {
   "cell_type": "code",
   "execution_count": 12,
   "id": "ad07038f",
   "metadata": {},
   "outputs": [],
   "source": [
    "def final_node(state: OurCustomState):\n",
    "    print(\"Node: Final\")\n",
    "    print(\"Cities:\", state[\"cities\"])\n",
    "    print(\"Facts:\", state[\"facts\"])\n",
    "    return {}"
   ]
  },
  {
   "cell_type": "code",
   "execution_count": 13,
   "id": "1c3bc3f1",
   "metadata": {},
   "outputs": [],
   "source": [
    "from langgraph.graph import StateGraph, START, END\n",
    "\n",
    "builder = StateGraph(OurCustomState)\n",
    "\n",
    "builder.add_node(\"random_city_generator\", random_city_generator)\n",
    "builder.add_node(\"city_advice\", city_advice)\n",
    "builder.add_node(\"final_node\", final_node)\n",
    "\n",
    "builder.add_edge(START, \"random_city_generator\")\n",
    "builder.add_edge(\"city_advice\", \"final_node\")\n",
    "builder.add_edge(\"final_node\", END)\n",
    "graph = builder.compile()"
   ]
  },
  {
   "cell_type": "code",
   "execution_count": 14,
   "id": "64b72585",
   "metadata": {},
   "outputs": [
    {
     "data": {
      "image/png": "[encoded data removed]",
      "text/plain": [
       "<IPython.core.display.Image object>"
      ]
     },
     "execution_count": 14,
     "metadata": {},
     "output_type": "execute_result"
    }
   ],
   "source": [
    "from IPython.display import Image\n",
    "Image(graph.get_graph().draw_mermaid_png())"
   ]
  },
  {
   "cell_type": "code",
   "execution_count": 15,
   "id": "83f028e8",
   "metadata": {},
   "outputs": [
    {
     "name": "stdout",
     "output_type": "stream",
     "text": [
      "Node: Random City Generator\n",
      "Node: CityAdviceNode: CityAdvice\n",
      "Node: CityAdvice\n",
      "\n",
      "Node: Final\n",
      "Cities: ['Mumbai', ' Jaipur', ' Chennai']\n",
      "Facts: ['# Mumbai  \\n1. Mumbai is home to the largest Film Industry in the world, Bollywood, producing over 1,000 films annually.  \\n2. The city’s iconic Gateway of India was built in 1924 to commemorate the visit of King George V and Queen Mary to India.  \\n3. Mumbai is one of the few cities in the world that has a population density of over 20,000 people per square kilometer.', '# Jaipur  \\n1. Jaipur is known as the \"Pink City\" because the buildings in its old city were painted rose pink in 1876 to welcome the Prince of Wales, symbolizing hospitality.  \\n2. The Jantar Mantar in Jaipur, built in the 18th century, is the largest stone sundial in the world and is a UNESCO World Heritage site.  \\n3. Jaipur was one of the first planned cities in India, designed by architect Vidyadhar Bhattacharya in 1727 based on ancient Indian architectural principles of Vastu Shastra.', '# Chennai  \\n1. Chennai is home to the Marina Beach, which is the second longest urban beach in the world, stretching about 13 kilometers.  \\n2. The city is known as the \"Detroit of India\" due to its thriving automobile industry with numerous major car manufacturing plants.  \\n3. Chennai hosts the famous music festival called the Chennai Music Season, which is one of the largest cultural events in the world dedicated to Carnatic music and dance.']\n"
     ]
    }
   ],
   "source": [
    "state = graph.invoke(input = {})"
   ]
  },
  {
   "cell_type": "code",
   "execution_count": 16,
   "id": "d8598faf",
   "metadata": {},
   "outputs": [
    {
     "name": "stdout",
     "output_type": "stream",
     "text": [
      "# Mumbai  \n",
      "1. Mumbai is home to the largest Film Industry in the world, Bollywood, producing over 1,000 films annually.  \n",
      "2. The city’s iconic Gateway of India was built in 1924 to commemorate the visit of King George V and Queen Mary to India.  \n",
      "3. Mumbai is one of the few cities in the world that has a population density of over 20,000 people per square kilometer.\n",
      "# Jaipur  \n",
      "1. Jaipur is known as the \"Pink City\" because the buildings in its old city were painted rose pink in 1876 to welcome the Prince of Wales, symbolizing hospitality.  \n",
      "2. The Jantar Mantar in Jaipur, built in the 18th century, is the largest stone sundial in the world and is a UNESCO World Heritage site.  \n",
      "3. Jaipur was one of the first planned cities in India, designed by architect Vidyadhar Bhattacharya in 1727 based on ancient Indian architectural principles of Vastu Shastra.\n",
      "# Chennai  \n",
      "1. Chennai is home to the Marina Beach, which is the second longest urban beach in the world, stretching about 13 kilometers.  \n",
      "2. The city is known as the \"Detroit of India\" due to its thriving automobile industry with numerous major car manufacturing plants.  \n",
      "3. Chennai hosts the famous music festival called the Chennai Music Season, which is one of the largest cultural events in the world dedicated to Carnatic music and dance.\n"
     ]
    }
   ],
   "source": [
    "for fact in state[\"facts\"]:\n",
    "    print(fact)"
   ]
  },
  {
   "cell_type": "code",
   "execution_count": null,
   "id": "6816aa60",
   "metadata": {},
   "outputs": [],
   "source": []
  }
 ],
 "metadata": {
  "kernelspec": {
   "display_name": ".venv",
   "language": "python",
   "name": "python3"
  },
  "language_info": {
   "codemirror_mode": {
    "name": "ipython",
    "version": 3
   },
   "file_extension": ".py",
   "mimetype": "text/x-python",
   "name": "python",
   "nbconvert_exporter": "python",
   "pygments_lexer": "ipython3",
   "version": "3.11.9"
  }
 },
 "nbformat": 4,
 "nbformat_minor": 5
}
