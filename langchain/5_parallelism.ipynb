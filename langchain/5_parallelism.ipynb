{
 "cells": [
  {
   "cell_type": "markdown",
   "id": "d77aa15d",
   "metadata": {},
   "source": [
    "# 5. Parallelism\n"
   ]
  },
  {
   "cell_type": "code",
   "execution_count": 1,
   "id": "0d579b1e",
   "metadata": {},
   "outputs": [],
   "source": [
    "from langchain_openai import AzureChatOpenAI\n",
    "from langchain_core.messages import HumanMessage\n",
    "from langgraph.types import Command\n",
    "from langgraph.constants import Send\n",
    "from typing import TypedDict, Literal\n",
    "from typing_extensions import Annotated\n",
    "import operator"
   ]
  },
  {
   "cell_type": "code",
   "execution_count": 2,
   "id": "2b5079b0",
   "metadata": {},
   "outputs": [],
   "source": [
    "llm = AzureChatOpenAI(model=\"gpt-4.1-mini\")"
   ]
  },
  {
   "cell_type": "code",
   "execution_count": 3,
   "id": "9712b29b",
   "metadata": {},
   "outputs": [],
   "source": [
    "class OurCustomState(TypedDict):\n",
    "    animals: list[str]\n",
    "    jokes: Annotated[list, operator.add]\n",
    "\n",
    "class JokeState(TypedDict):\n",
    "    subject: str"
   ]
  },
  {
   "cell_type": "code",
   "execution_count": 4,
   "id": "30c5515f",
   "metadata": {},
   "outputs": [],
   "source": [
    "def joke_generator(state:JokeState) -> str:\n",
    "    print(\"Node: Joke\")\n",
    "    response = llm.invoke(input=[HumanMessage(content=f\"Tell me a joke about {state['subject']}. Only return the joke, nothing else.\")])\n",
    "\n",
    "    return {\n",
    "        \"jokes\": [response.content]\n",
    "    }"
   ]
  },
  {
   "cell_type": "code",
   "execution_count": 5,
   "id": "35025750",
   "metadata": {},
   "outputs": [],
   "source": [
    "def random_animal_generator(state: OurCustomState) -> Command[Literal[\"joke_generator\", \"final_node\"]]:\n",
    "    print(\"Node: Random Animal\")\n",
    "    response = llm.invoke(input=\"Return 3 random animal names, comma separated.\")\n",
    "    animals = response.content.split(\",\")\n",
    "    if len(animals) > 0:\n",
    "        return Command(\n",
    "            update={\n",
    "                \"animals\": animals\n",
    "            },\n",
    "            goto=[\n",
    "                Send(\n",
    "                    node = \"joke_generator\",\n",
    "                    arg = {\n",
    "                        \"subject\": animal.strip()\n",
    "                    }\n",
    "                )\n",
    "            for animal in animals]\n",
    "        )\n",
    "    else:\n",
    "        return Command(\n",
    "            update={\n",
    "                \"animals\": []\n",
    "            },\n",
    "            goto=[\"final_node\"]\n",
    "        )"
   ]
  },
  {
   "cell_type": "code",
   "execution_count": 6,
   "id": "ad07038f",
   "metadata": {},
   "outputs": [],
   "source": [
    "def final_node(state: OurCustomState):\n",
    "    print(\"Node: Final\")\n",
    "    print(\"Animals:\", state[\"animals\"])\n",
    "    print(\"Jokes:\", state[\"jokes\"])\n",
    "    return {}"
   ]
  },
  {
   "cell_type": "code",
   "execution_count": 7,
   "id": "1c3bc3f1",
   "metadata": {},
   "outputs": [],
   "source": [
    "from langgraph.graph import StateGraph, START, END\n",
    "\n",
    "builder = StateGraph(OurCustomState)\n",
    "\n",
    "builder.add_node(\"random_animal_generator\", random_animal_generator)\n",
    "builder.add_node(\"joke_generator\", joke_generator)\n",
    "builder.add_node(\"final_node\", final_node)\n",
    "\n",
    "builder.add_edge(START, \"random_animal_generator\")\n",
    "builder.add_edge(\"joke_generator\", \"final_node\")\n",
    "builder.add_edge(\"final_node\", END)\n",
    "graph = builder.compile()"
   ]
  },
  {
   "cell_type": "code",
   "execution_count": 8,
   "id": "64b72585",
   "metadata": {},
   "outputs": [
    {
     "data": {
      "image/png": "[encoded data removed]",
      "text/plain": [
       "<IPython.core.display.Image object>"
      ]
     },
     "execution_count": 8,
     "metadata": {},
     "output_type": "execute_result"
    }
   ],
   "source": [
    "from IPython.display import Image\n",
    "Image(graph.get_graph().draw_mermaid_png())"
   ]
  },
  {
   "cell_type": "code",
   "execution_count": 9,
   "id": "83f028e8",
   "metadata": {},
   "outputs": [
    {
     "name": "stdout",
     "output_type": "stream",
     "text": [
      "Node: Random Animal\n",
      "Node: JokeNode: Joke\n",
      "\n",
      "Node: Joke\n",
      "Node: Final\n",
      "Animals: ['Tiger', ' Elephant', ' Kangaroo']\n",
      "Jokes: ['Why don’t tigers play cards in the jungle? Because there are too many cheetahs!', \"Why do elephants never use computers? Because they're afraid of the mouse!\", 'Why did the kangaroo stop drinking coffee? Because it made him jumpy!']\n"
     ]
    }
   ],
   "source": [
    "state = graph.invoke(input = {})"
   ]
  },
  {
   "cell_type": "code",
   "execution_count": 10,
   "id": "d8598faf",
   "metadata": {},
   "outputs": [
    {
     "name": "stdout",
     "output_type": "stream",
     "text": [
      "Why don’t tigers play cards in the jungle? Because there are too many cheetahs!\n",
      "Why do elephants never use computers? Because they're afraid of the mouse!\n",
      "Why did the kangaroo stop drinking coffee? Because it made him jumpy!\n"
     ]
    }
   ],
   "source": [
    "for joke in state[\"jokes\"]:\n",
    "    print(joke)"
   ]
  },
  {
   "cell_type": "code",
   "execution_count": null,
   "id": "17568765",
   "metadata": {},
   "outputs": [],
   "source": []
  }
 ],
 "metadata": {
  "kernelspec": {
   "display_name": ".venv",
   "language": "python",
   "name": "python3"
  },
  "language_info": {
   "codemirror_mode": {
    "name": "ipython",
    "version": 3
   },
   "file_extension": ".py",
   "mimetype": "text/x-python",
   "name": "python",
   "nbconvert_exporter": "python",
   "pygments_lexer": "ipython3",
   "version": "3.11.9"
  }
 },
 "nbformat": 4,
 "nbformat_minor": 5
}
