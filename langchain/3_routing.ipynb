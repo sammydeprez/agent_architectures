{
 "cells": [
  {
   "cell_type": "markdown",
   "id": "1e6d69e4",
   "metadata": {},
   "source": [
    "# 3. Routing / Supervisor"
   ]
  },
  {
   "cell_type": "code",
   "execution_count": null,
   "id": "aa434df4",
   "metadata": {},
   "outputs": [],
   "source": [
    "from langchain_openai import AzureChatOpenAI\n",
    "from langchain_core.messages import HumanMessage, SystemMessage, AIMessage\n",
    "from typing import Literal"
   ]
  },
  {
   "cell_type": "code",
   "execution_count": 2,
   "id": "94a0b8f9",
   "metadata": {},
   "outputs": [],
   "source": [
    "llm = AzureChatOpenAI(model=\"gpt-4.1-mini\")"
   ]
  },
  {
   "cell_type": "code",
   "execution_count": 3,
   "id": "f164b2fa",
   "metadata": {},
   "outputs": [],
   "source": [
    "from pydantic import BaseModel\n",
    "\n",
    "class RouterOutput(BaseModel):\n",
    "    \"\"\"Output of the router, indicating which tool to use. Set to 'unknown' if no tool is applicable.\"\"\"\n",
    "    tool: Literal[\"joke\", \"unknown\"]"
   ]
  },
  {
   "cell_type": "code",
   "execution_count": 4,
   "id": "09214ee8",
   "metadata": {},
   "outputs": [],
   "source": [
    "def router(state) -> Literal[\"joke\", \"unknown\"]:\n",
    "    structured_llm = llm.bind_tools(tools = [RouterOutput], tool_choice=\"required\")\n",
    "    response = structured_llm.invoke(input=state[\"messages\"])\n",
    "    output = RouterOutput(**response.tool_calls[0][\"args\"])\n",
    "    return output.tool\n"
   ]
  },
  {
   "cell_type": "code",
   "execution_count": 5,
   "id": "d6276a42",
   "metadata": {},
   "outputs": [],
   "source": [
    "def joke_generator(state) -> str:\n",
    "    print(\"Node: Joke\")\n",
    "    response = llm.invoke(input=state[\"messages\"])\n",
    "\n",
    "    return {\n",
    "        \"messages\": [response]\n",
    "    }"
   ]
  },
  {
   "cell_type": "code",
   "execution_count": 6,
   "id": "15de795a",
   "metadata": {},
   "outputs": [],
   "source": [
    "def unknown_node(state):\n",
    "    print(\"Node: Unknown\")\n",
    "    return {\n",
    "        \"messages\": [\n",
    "            AIMessage(content=\"I don't have the information you need. Please try asking something else.\")\n",
    "        ]\n",
    "    }"
   ]
  },
  {
   "cell_type": "code",
   "execution_count": 7,
   "id": "20d0eb51",
   "metadata": {},
   "outputs": [],
   "source": [
    "from langgraph.graph import StateGraph, START, END\n",
    "from langgraph.graph import MessagesState\n",
    "\n",
    "builder = StateGraph(MessagesState)\n",
    "\n",
    "builder.add_node(\"joke\", joke_generator)\n",
    "builder.add_node(\"unknown\", unknown_node)\n",
    "\n",
    "builder.add_conditional_edges(START, router)\n",
    "builder.add_edge(\"joke\", END)\n",
    "builder.add_edge(\"unknown\", END)\n",
    "\n",
    "graph = builder.compile()"
   ]
  },
  {
   "cell_type": "code",
   "execution_count": 8,
   "id": "1c6948ba",
   "metadata": {},
   "outputs": [
    {
     "data": {
      "image/png": "[encoded data removed]",
      "text/plain": [
       "<IPython.core.display.Image object>"
      ]
     },
     "execution_count": 8,
     "metadata": {},
     "output_type": "execute_result"
    }
   ],
   "source": [
    "from IPython.display import Image\n",
    "Image(graph.get_graph().draw_mermaid_png())"
   ]
  },
  {
   "cell_type": "code",
   "execution_count": 10,
   "id": "446e702f",
   "metadata": {},
   "outputs": [
    {
     "name": "stdout",
     "output_type": "stream",
     "text": [
      "Node: Joke\n",
      "Sure! Here's a light-hearted joke about Perth:\n",
      "\n",
      "Why don't secrets last long in Perth?  \n",
      "Because even the kangaroos are great at hopping to conclusions!\n"
     ]
    }
   ],
   "source": [
    "response = graph.invoke(\n",
    "    input= {\"messages\": [\n",
    "        SystemMessage(\n",
    "            content=\"You are a helpful assistant that can provide weather information for specific cities.\"\n",
    "        ),\n",
    "        HumanMessage(\n",
    "            content=\"Tell me a joke about Perth\"\n",
    "        )\n",
    "    ]}\n",
    ")\n",
    "\n",
    "print(response[\"messages\"][-1].content)"
   ]
  }
 ],
 "metadata": {
  "kernelspec": {
   "display_name": ".venv",
   "language": "python",
   "name": "python3"
  },
  "language_info": {
   "codemirror_mode": {
    "name": "ipython",
    "version": 3
   },
   "file_extension": ".py",
   "mimetype": "text/x-python",
   "name": "python",
   "nbconvert_exporter": "python",
   "pygments_lexer": "ipython3",
   "version": "3.11.9"
  }
 },
 "nbformat": 4,
 "nbformat_minor": 5
}
