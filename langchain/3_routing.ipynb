{
 "cells": [
  {
   "cell_type": "markdown",
   "id": "1e6d69e4",
   "metadata": {},
   "source": [
    "# 3. Routing / Supervisor"
   ]
  },
  {
   "cell_type": "markdown",
   "id": "d7569c00",
   "metadata": {},
   "source": [
    "## Overview\n",
    "\n",
    "The Routing/Supervisor pattern is a powerful agent architecture that acts as an intelligent dispatcher. Instead of having one agent handle all types of requests, this pattern:\n",
    "\n",
    "- **Routes requests** to specialized agents based on intent\n",
    "- **Manages multiple sub-agents** with different capabilities\n",
    "- **Provides fallback handling** for unrecognized requests\n",
    "- **Scales efficiently** by distributing workload\n",
    "\n",
    "![Routing Architecture](../docs/router_supervisor.png)\n",
    "\n",
    "### Key Components\n",
    "\n",
    "1. **Router Function**: Analyzes incoming requests and determines the appropriate handler\n",
    "2. **Specialized Agents**: Purpose-built agents for specific domains (weather, travel, etc.)\n",
    "3. **Fallback Handler**: Manages requests that don't match any specialized agent\n",
    "4. **State Graph**: Orchestrates the flow between different components\n",
    "\n",
    "## Implementation Steps"
   ]
  },
  {
   "cell_type": "markdown",
   "id": "imports_section",
   "metadata": {},
   "source": [
    "### Step 1: Import Required Libraries\n",
    "\n",
    "We'll need:\n",
    "- **LangChain**: For LLM integration and message handling\n",
    "- **LangGraph**: For building the routing state machine\n",
    "- **Typing**: For structured output validation"
   ]
  },
  {
   "cell_type": "code",
   "execution_count": 1,
   "id": "aa434df4",
   "metadata": {},
   "outputs": [],
   "source": [
    "from langchain_openai import AzureChatOpenAI\n",
    "from langchain_core.messages import HumanMessage, SystemMessage, AIMessage\n",
    "from typing import Literal\n",
    "from langchain.tools import tool\n",
    "from langgraph.prebuilt import create_react_agent"
   ]
  },
  {
   "cell_type": "markdown",
   "id": "llm_init_section",
   "metadata": {},
   "source": [
    "### Step 2: Initialize the Base Language Model\n",
    "\n",
    "This LLM will be used by both the router and the specialized agents."
   ]
  },
  {
   "cell_type": "code",
   "execution_count": 2,
   "id": "94a0b8f9",
   "metadata": {},
   "outputs": [],
   "source": [
    "llm = AzureChatOpenAI(model=\"gpt-4.1-mini\")"
   ]
  },
  {
   "cell_type": "markdown",
   "id": "weather_agent_section",
   "metadata": {},
   "source": [
    "### Step 3: Create Specialized Agents\n",
    "\n",
    "First, we'll create a weather agent that can access weather information. We use:\n",
    "- **The same weather tool** from the previous notebook\n",
    "- **`create_react_agent()`**: A pre-built agent that automatically handles tool calling cycles\n",
    "\n",
    "The ReAct agent handles the tool calling workflow automatically, so we don't need to manually manage the tool execution loop."
   ]
  },
  {
   "cell_type": "code",
   "execution_count": 3,
   "id": "5a632a21",
   "metadata": {},
   "outputs": [],
   "source": [
    "@tool\n",
    "def weather_tool(location: Literal[\"Chicago\", \"New York\", \"Los Angeles\"]) -> str:\n",
    "    \"\"\"\n",
    "    Get the current weather for a specified location.\n",
    "    Args:\n",
    "        location (str): The name of the city to get the weather for. \n",
    "                        Must be one of \"Chicago\", \"New York\", or \"Los Angeles\".\n",
    "    Returns:\n",
    "        str: A string describing the current weather in the specified location.\n",
    "    \"\"\"\n",
    "\n",
    "    weather_data = {\n",
    "        \"New York\": \"Sunny, 25°C\",\n",
    "        \"Los Angeles\": \"Cloudy, 22°C\",\n",
    "        \"Chicago\": \"Rainy, 18°C\"\n",
    "    }\n",
    "    return weather_data.get(location, \"Weather data not available for this location.\")\n",
    "\n",
    "weather_agent = create_react_agent(\n",
    "    model=llm,\n",
    "    tools=[weather_tool]\n",
    ")"
   ]
  },
  {
   "cell_type": "markdown",
   "id": "router_output_section",
   "metadata": {},
   "source": [
    "### Step 4: Define Router Output Structure\n",
    "\n",
    "We use Pydantic to create a structured output format for the router. This ensures:\n",
    "- **Consistent routing decisions** \n",
    "- **Type safety** with predefined options\n",
    "- **Clear documentation** of available routes\n",
    "\n",
    "The router can choose between `travel_advisor`, `weather`, or `unknown` for unhandled requests."
   ]
  },
  {
   "cell_type": "code",
   "execution_count": 4,
   "id": "f164b2fa",
   "metadata": {},
   "outputs": [],
   "source": [
    "from pydantic import BaseModel\n",
    "\n",
    "class RouterOutput(BaseModel):\n",
    "    \"\"\"Output of the router, indicating which tool to use. Set to 'unknown' if no tool is applicable.\n",
    "    Options:\n",
    "     - travel_advisor: If user is requesting travel advice.\n",
    "     - weather: If user is requesting weather information.\n",
    "     - unknown: If you are not sure what tool to use.\n",
    "    \"\"\"\n",
    "    tool: Literal[\"travel_advisor\", \"unknown\", \"weather\"]"
   ]
  },
  {
   "cell_type": "markdown",
   "id": "router_function_section",
   "metadata": {},
   "source": [
    "### Step 5: Implement the Router Function\n",
    "\n",
    "The router function is the brain of our system. It:\n",
    "- **Analyzes the user's message** to understand intent\n",
    "- **Uses structured output** to ensure valid routing decisions\n",
    "- **Returns the appropriate route** for the request\n",
    "\n",
    "The `with_structured_output()` method forces the LLM to respond in our predefined format."
   ]
  },
  {
   "cell_type": "code",
   "execution_count": 5,
   "id": "09214ee8",
   "metadata": {},
   "outputs": [],
   "source": [
    "def router(state) -> Literal[\"travel_advisor\", \"unknown\", \"weather\"]:\n",
    "    structured_llm = llm.with_structured_output(RouterOutput)\n",
    "    response = structured_llm.invoke(input=state[\"messages\"])\n",
    "    print(f\"Router response: {response}\")\n",
    "    return response.tool\n"
   ]
  },
  {
   "cell_type": "markdown",
   "id": "specialized_agents_section",
   "metadata": {},
   "source": [
    "### Step 6: Create Additional Specialized Agents\n",
    "\n",
    "Now we'll create handlers for different types of requests:\n",
    "\n",
    "#### Travel Advisor Agent\n",
    "Handles travel-related queries with travel expertise."
   ]
  },
  {
   "cell_type": "code",
   "execution_count": 6,
   "id": "d6276a42",
   "metadata": {},
   "outputs": [],
   "source": [
    "def travel_advisor(state) -> str:\n",
    "    print(\"Node: Travel Advisor\")\n",
    "    msgs = [\n",
    "        SystemMessage(\"You are a travel expert. Based on the user's input, suggest 1 travel destination.\"),\n",
    "        state[\"messages\"][-1],\n",
    "    ]\n",
    "    response = llm.invoke(msgs)\n",
    "\n",
    "    return {\n",
    "        \"messages\": [response]\n",
    "    }"
   ]
  },
  {
   "cell_type": "markdown",
   "id": "unknown_handler_section",
   "metadata": {},
   "source": [
    "#### Unknown Request Handler\n",
    "Provides a helpful fallback for requests that don't match any specialized agent."
   ]
  },
  {
   "cell_type": "code",
   "execution_count": 7,
   "id": "15de795a",
   "metadata": {},
   "outputs": [],
   "source": [
    "def unknown_node(state):\n",
    "    print(\"Node: Unknown\")\n",
    "    return {\n",
    "        \"messages\": [\n",
    "            AIMessage(content=\"I can not assist with that request. \" \\\n",
    "            \"Could you please rephrase or ask something else? \" \\\n",
    "            \"I can help you with travel advice or weather information.\")\n",
    "        ]\n",
    "    }"
   ]
  },
  {
   "cell_type": "markdown",
   "id": "state_graph_section",
   "metadata": {},
   "source": [
    "### Step 7: Build the State Graph\n",
    "\n",
    "LangGraph's StateGraph orchestrates the entire routing system:\n",
    "- **Nodes**: Individual agents/handlers\n",
    "- **Edges**: Flow between agents\n",
    "- **Conditional Edges**: Router-based decision making\n",
    "\n",
    "The graph starts with routing and ends at the appropriate specialized agent."
   ]
  },
  {
   "cell_type": "code",
   "execution_count": 8,
   "id": "20d0eb51",
   "metadata": {},
   "outputs": [],
   "source": [
    "from langgraph.graph import StateGraph, START, END\n",
    "from langgraph.graph import MessagesState\n",
    "\n",
    "builder = StateGraph(MessagesState)\n",
    "\n",
    "builder.add_node(\"travel_advisor\", travel_advisor)\n",
    "builder.add_node(\"unknown\", unknown_node)\n",
    "builder.add_node(\"weather\", weather_agent)\n",
    "\n",
    "builder.add_conditional_edges(START, router)\n",
    "builder.add_edge(\"travel_advisor\", END)\n",
    "builder.add_edge(\"unknown\", END)\n",
    "builder.add_edge(\"weather\", END)\n",
    "\n",
    "graph = builder.compile()"
   ]
  },
  {
   "cell_type": "code",
   "execution_count": 13,
   "id": "1c6948ba",
   "metadata": {},
   "outputs": [
    {
     "data": {
      "image/png": "[encoded data removed]",
      "text/plain": [
       "<IPython.core.display.Image object>"
      ]
     },
     "execution_count": 13,
     "metadata": {},
     "output_type": "execute_result"
    }
   ],
   "source": [
    "from IPython.display import Image\n",
    "Image(graph.get_graph(xray=1).draw_mermaid_png())"
   ]
  },
  {
   "cell_type": "code",
   "execution_count": 12,
   "id": "446e702f",
   "metadata": {},
   "outputs": [
    {
     "name": "stdout",
     "output_type": "stream",
     "text": [
      "================================\u001b[1m Human Message \u001b[0m=================================\n",
      "\n",
      "What can you tell me about the weather in Mumbai\n",
      "Router response: tool='weather'\n",
      "================================\u001b[1m Human Message \u001b[0m=================================\n",
      "\n",
      "What can you tell me about the weather in Mumbai\n",
      "==================================\u001b[1m Ai Message \u001b[0m==================================\n",
      "\n",
      "I currently have access to weather information only for Chicago, New York, and Los Angeles. If you'd like, I can provide you with the weather details for any of these cities. Let me know!\n"
     ]
    }
   ],
   "source": [
    "messages = [HumanMessage(content=\"What can you tell me about the weather in Mumbai\")]\n",
    "\n",
    "for msg in messages:\n",
    "    msg.pretty_print()\n",
    "\n",
    "async for event in graph.astream(input={\"messages\": messages}, stream_mode=\"updates\"):\n",
    "    for node in graph.nodes.keys():\n",
    "        node_output = event.get(node, {})\n",
    "        if node_output is not None:\n",
    "            output_msgs = node_output.get(\"messages\", [])\n",
    "            for msg in output_msgs:\n",
    "                msg.pretty_print()"
   ]
  },
  {
   "cell_type": "markdown",
   "id": "routing_conclusion",
   "metadata": {},
   "source": [
    "## Key Takeaways\n",
    "\n",
    "The Routing/Supervisor pattern demonstrates several important concepts:\n",
    "\n",
    "1. **Intelligent Request Routing**: The router analyzes intent and directs requests appropriately\n",
    "2. **Specialized Agent Handling**: Each agent can focus on its domain expertise\n",
    "3. **Graceful Fallback**: Unknown requests are handled with helpful error messages\n",
    "4. **Structured Decision Making**: Using Pydantic ensures consistent routing logic\n",
    "5. **Scalable Architecture**: Easy to add new specialized agents\n",
    "\n",
    "## Understanding the Flow\n",
    "\n",
    "In our test above:\n",
    "1. **User asks about Mumbai weather**\n",
    "2. **Router identifies this as a weather request** (prints: `Router response: tool='weather'`)\n",
    "3. **Weather agent processes the request** but doesn't have Mumbai data\n",
    "4. **Weather agent responds helpfully** with available options\n",
    "\n",
    "## When to Use Routing/Supervisor Pattern\n",
    "\n",
    "### Ideal Scenarios:\n",
    "- **Multi-domain applications** (customer service, enterprise tools)\n",
    "- **Specialized expertise needed** (legal, medical, technical support)\n",
    "- **Scalable agent systems** with growing capabilities\n",
    "- **Quality control** where different agents have different skill levels\n",
    "\n",
    "### Benefits:\n",
    "- **Improved response quality** through specialization\n",
    "- **Better resource utilization** (route simple queries to lightweight agents)\n",
    "- **Easier maintenance** (update one agent without affecting others)\n",
    "- **Clear separation of concerns**\n",
    "\n",
    "## Next Steps\n",
    "\n",
    "This routing pattern can be extended with:\n",
    "- **More sophisticated routing logic** (confidence scores, fallback chains)\n",
    "- **Dynamic agent loading** based on availability\n",
    "- **Load balancing** between multiple instances of the same agent type\n",
    "- **Conversation state management** for multi-turn routing\n",
    "\n",
    "The next notebook will explore **Reflection** patterns for self-improving agents."
   ]
  },
  {
   "cell_type": "code",
   "execution_count": null,
   "id": "0b696b51",
   "metadata": {},
   "outputs": [],
   "source": []
  }
 ],
 "metadata": {
  "kernelspec": {
   "display_name": ".venv",
   "language": "python",
   "name": "python3"
  },
  "language_info": {
   "codemirror_mode": {
    "name": "ipython",
    "version": 3
   },
   "file_extension": ".py",
   "mimetype": "text/x-python",
   "name": "python",
   "nbconvert_exporter": "python",
   "pygments_lexer": "ipython3",
   "version": "3.11.9"
  }
 },
 "nbformat": 4,
 "nbformat_minor": 5
}
