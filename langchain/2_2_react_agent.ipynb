{
 "cells": [
  {
   "cell_type": "markdown",
   "id": "5eccebb4",
   "metadata": {},
   "source": [
    "# 2.2 React Agent"
   ]
  },
  {
   "cell_type": "code",
   "execution_count": null,
   "id": "aa434df4",
   "metadata": {},
   "outputs": [],
   "source": [
    "from langchain_openai import AzureChatOpenAI\n",
    "from langchain_core.messages import HumanMessage, SystemMessage\n",
    "from typing import Literal\n",
    "from langchain.tools import tool\n",
    "from langgraph.prebuilt import create_react_agent"
   ]
  },
  {
   "cell_type": "code",
   "execution_count": null,
   "id": "94a0b8f9",
   "metadata": {},
   "outputs": [],
   "source": [
    "llm = AzureChatOpenAI(model=\"gpt-4.1-mini\")"
   ]
  },
  {
   "cell_type": "code",
   "execution_count": null,
   "id": "b53a8e7e",
   "metadata": {},
   "outputs": [],
   "source": [
    "@tool\n",
    "def weather_tool(location: Literal[\"Chicago\", \"New York\", \"Los Angeles\"]) -> str:\n",
    "    \"\"\"\n",
    "    Get the current weather for a specified location.\n",
    "    Args:\n",
    "        location (str): The name of the city to get the weather for. \n",
    "                        Must be one of \"Chicago\", \"New York\", or \"Los Angeles\".\n",
    "    Returns:\n",
    "        str: A string describing the current weather in the specified location.\n",
    "    \"\"\"\n",
    "\n",
    "    weather_data = {\n",
    "        \"New York\": \"Sunny, 25°C\",\n",
    "        \"Los Angeles\": \"Cloudy, 22°C\",\n",
    "        \"Chicago\": \"Rainy, 18°C\"\n",
    "    }\n",
    "    return weather_data.get(location, \"Weather data not available for this location.\")"
   ]
  },
  {
   "cell_type": "code",
   "execution_count": null,
   "id": "f2ae68a7",
   "metadata": {},
   "outputs": [],
   "source": [
    "agent = create_react_agent(\n",
    "    model=llm,\n",
    "    tools=[weather_tool]\n",
    ")"
   ]
  },
  {
   "cell_type": "code",
   "execution_count": null,
   "id": "16e6443b",
   "metadata": {},
   "outputs": [],
   "source": [
    "from IPython.display import Image\n",
    "Image(agent.get_graph().draw_mermaid_png())"
   ]
  },
  {
   "cell_type": "code",
   "execution_count": null,
   "id": "446e702f",
   "metadata": {},
   "outputs": [],
   "source": [
    "response = agent.invoke(\n",
    "    input= {\"messages\": [\n",
    "        SystemMessage(\n",
    "            content=\"You are a helpful assistant that can provide weather information for specific cities.\"\n",
    "        ),\n",
    "        HumanMessage(\n",
    "            content=\"What is the weather like in NYC?\"\n",
    "        )\n",
    "    ]}\n",
    ")"
   ]
  },
  {
   "cell_type": "code",
   "execution_count": null,
   "id": "08770b0b",
   "metadata": {},
   "outputs": [],
   "source": [
    "for message in response[\"messages\"]:\n",
    "    print(message.pretty_print())"
   ]
  }
 ],
 "metadata": {
  "kernelspec": {
   "display_name": ".venv",
   "language": "python",
   "name": "python3"
  },
  "language_info": {
   "codemirror_mode": {
    "name": "ipython",
    "version": 3
   },
   "file_extension": ".py",
   "mimetype": "text/x-python",
   "name": "python",
   "nbconvert_exporter": "python",
   "pygments_lexer": "ipython3",
   "version": "3.11.9"
  }
 },
 "nbformat": 4,
 "nbformat_minor": 5
}
