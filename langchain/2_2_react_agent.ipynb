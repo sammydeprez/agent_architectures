{
 "cells": [
  {
   "cell_type": "markdown",
   "id": "5eccebb4",
   "metadata": {},
   "source": [
    "# 2.2 React Agent"
   ]
  },
  {
   "cell_type": "markdown",
   "id": "2f22d7ac",
   "metadata": {},
   "source": [
    "A ReAct Agent is a simplified way to call tools to an LLM call. There is no need to check if an execution is necessary. Although the process behind the scenes is the same as in 2.1 the lines of code is less."
   ]
  },
  {
   "cell_type": "code",
   "execution_count": 1,
   "id": "aa434df4",
   "metadata": {},
   "outputs": [],
   "source": [
    "from langchain_openai import AzureChatOpenAI\n",
    "from langchain_core.messages import HumanMessage, SystemMessage\n",
    "from typing import Literal\n",
    "from langchain.tools import tool\n",
    "from langgraph.prebuilt import create_react_agent"
   ]
  },
  {
   "cell_type": "markdown",
   "id": "298acde4",
   "metadata": {},
   "source": [
    "Define the model"
   ]
  },
  {
   "cell_type": "code",
   "execution_count": 2,
   "id": "94a0b8f9",
   "metadata": {},
   "outputs": [],
   "source": [
    "llm = AzureChatOpenAI(model=\"gpt-4.1-mini\")"
   ]
  },
  {
   "cell_type": "markdown",
   "id": "d76ce9b1",
   "metadata": {},
   "source": [
    "Define the tool/action the LLM will have access to"
   ]
  },
  {
   "cell_type": "code",
   "execution_count": 3,
   "id": "b53a8e7e",
   "metadata": {},
   "outputs": [],
   "source": [
    "@tool\n",
    "def weather_tool(location: Literal[\"Chicago\", \"New York\", \"Los Angeles\"]) -> str:\n",
    "    \"\"\"\n",
    "    Get the current weather for a specified location.\n",
    "    Args:\n",
    "        location (str): The name of the city to get the weather for. \n",
    "                        Must be one of \"Chicago\", \"New York\", or \"Los Angeles\".\n",
    "    Returns:\n",
    "        str: A string describing the current weather in the specified location.\n",
    "    \"\"\"\n",
    "\n",
    "    weather_data = {\n",
    "        \"New York\": \"Sunny, 25°C\",\n",
    "        \"Los Angeles\": \"Cloudy, 22°C\",\n",
    "        \"Chicago\": \"Rainy, 18°C\"\n",
    "    }\n",
    "    return weather_data.get(location, \"Weather data not available for this location.\")"
   ]
  },
  {
   "cell_type": "markdown",
   "id": "05aeb504",
   "metadata": {},
   "source": [
    "Create the agent - Linking the tools to the LLM"
   ]
  },
  {
   "cell_type": "code",
   "execution_count": 4,
   "id": "f2ae68a7",
   "metadata": {},
   "outputs": [],
   "source": [
    "agent = create_react_agent(\n",
    "    model=llm,\n",
    "    tools=[weather_tool]\n",
    ")"
   ]
  },
  {
   "cell_type": "markdown",
   "id": "2b58205e",
   "metadata": {},
   "source": [
    "LangGraph has a feature to visualize the flow of the agents. Notice below chart the interaction between the agent (llm) and the tools"
   ]
  },
  {
   "cell_type": "code",
   "execution_count": 5,
   "id": "16e6443b",
   "metadata": {},
   "outputs": [
    {
     "data": {
      "image/png": "[encoded data removed]",
      "text/plain": [
       "<IPython.core.display.Image object>"
      ]
     },
     "execution_count": 5,
     "metadata": {},
     "output_type": "execute_result"
    }
   ],
   "source": [
    "from IPython.display import Image\n",
    "Image(agent.get_graph().draw_mermaid_png())"
   ]
  },
  {
   "cell_type": "markdown",
   "id": "8e3b4592",
   "metadata": {},
   "source": [
    "Set prompt"
   ]
  },
  {
   "cell_type": "code",
   "execution_count": 6,
   "id": "e7cc67b3",
   "metadata": {},
   "outputs": [],
   "source": [
    "messages = [\n",
    "    SystemMessage(\n",
    "        content=\"You are a helpful assistant that can provide weather information for specific cities.\"\n",
    "    ),\n",
    "    HumanMessage(\n",
    "        content=\"What is the weather like in NYC?\"\n",
    "    )\n",
    "]"
   ]
  },
  {
   "cell_type": "markdown",
   "id": "d60c280c",
   "metadata": {},
   "source": [
    "Call the agent"
   ]
  },
  {
   "cell_type": "code",
   "execution_count": 7,
   "id": "446e702f",
   "metadata": {},
   "outputs": [],
   "source": [
    "response = agent.invoke(\n",
    "    input= {\"messages\": messages}\n",
    ")"
   ]
  },
  {
   "cell_type": "markdown",
   "id": "dab50f09",
   "metadata": {},
   "source": [
    "Print result"
   ]
  },
  {
   "cell_type": "code",
   "execution_count": 8,
   "id": "08770b0b",
   "metadata": {},
   "outputs": [
    {
     "name": "stdout",
     "output_type": "stream",
     "text": [
      "================================\u001b[1m System Message \u001b[0m================================\n",
      "\n",
      "You are a helpful assistant that can provide weather information for specific cities.\n",
      "None\n",
      "================================\u001b[1m Human Message \u001b[0m=================================\n",
      "\n",
      "What is the weather like in NYC?\n",
      "None\n",
      "==================================\u001b[1m Ai Message \u001b[0m==================================\n",
      "Tool Calls:\n",
      "  weather_tool (call_egaimK43Z0LTf4lIOR1xy7IF)\n",
      " Call ID: call_egaimK43Z0LTf4lIOR1xy7IF\n",
      "  Args:\n",
      "    location: New York\n",
      "None\n",
      "=================================\u001b[1m Tool Message \u001b[0m=================================\n",
      "Name: weather_tool\n",
      "\n",
      "Sunny, 25°C\n",
      "None\n",
      "==================================\u001b[1m Ai Message \u001b[0m==================================\n",
      "\n",
      "The weather in New York City is currently sunny with a temperature of 25°C.\n",
      "None\n"
     ]
    }
   ],
   "source": [
    "for message in response[\"messages\"]:\n",
    "    print(message.pretty_print())"
   ]
  }
 ],
 "metadata": {
  "kernelspec": {
   "display_name": ".venv",
   "language": "python",
   "name": "python3"
  },
  "language_info": {
   "codemirror_mode": {
    "name": "ipython",
    "version": 3
   },
   "file_extension": ".py",
   "mimetype": "text/x-python",
   "name": "python",
   "nbconvert_exporter": "python",
   "pygments_lexer": "ipython3",
   "version": "3.11.9"
  }
 },
 "nbformat": 4,
 "nbformat_minor": 5
}
