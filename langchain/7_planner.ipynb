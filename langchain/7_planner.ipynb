{
 "cells": [
  {
   "cell_type": "markdown",
   "id": "79b5811c-1074-495f-9722-8325b5e717d3",
   "metadata": {},
   "source": [
    "# Planner"
   ]
  },
  {
   "cell_type": "markdown",
   "id": "2f7e10a9",
   "metadata": {},
   "source": [
    "![Swarm](../docs/planner.png)"
   ]
  },
  {
   "cell_type": "markdown",
   "id": "6c5fb09a-0311-44c2-b243-d0e80de78902",
   "metadata": {},
   "source": [
    "## Define Tools\n",
    "\n",
    "We will first define the tools we want to use. For this simple example, we will use a built-in search tool via Tavily. However, it is really easy to create your own tools - see documentation [here](https://python.langchain.com/docs/how_to/custom_tools) on how to do that."
   ]
  },
  {
   "cell_type": "code",
   "execution_count": 1,
   "id": "25b9ec62-0675-4715-811c-9b32c635b22f",
   "metadata": {},
   "outputs": [],
   "source": [
    "from langchain_tavily import TavilySearch\n",
    "tavily_tool = TavilySearch()\n",
    "tools = [tavily_tool]"
   ]
  },
  {
   "cell_type": "code",
   "execution_count": 2,
   "id": "d2cb767c",
   "metadata": {},
   "outputs": [
    {
     "data": {
      "text/plain": [
       "{'query': 'What is the capital of France?',\n",
       " 'follow_up_questions': None,\n",
       " 'answer': None,\n",
       " 'images': [],\n",
       " 'results': [{'title': 'List of capitals of France - Wikipedia',\n",
       "   'url': 'https://en.wikipedia.org/wiki/List_of_capitals_of_France',\n",
       "   'content': \"List of capitals of France - Wikipedia Article [x] Tools  This is a chronological list of capitals of France. The capital of France has been Paris since its liberation in 1944.[1] Paris (987–1419), the residence of the Kings of France, although they were consecrated at Reims. Troyes (1419–1422), for a short time during the Hundred Years' War, the city was the seat of the royal government. Paris (1594–1682)[citation needed] Tours (10–13 June 1940), the city served as the temporary capital of France during World War II after the government fled Paris due to the German advance. Algiers (1943–1944), the city was made the seat of Free France, to be closer to the war in Europe. *   All articles needing additional references\",\n",
       "   'score': 0.9416167,\n",
       "   'raw_content': None},\n",
       "  {'title': 'What is the Capital of France? - WorldAtlas',\n",
       "   'url': 'https://www.worldatlas.com/articles/what-is-the-capital-of-france.html',\n",
       "   'content': 'Paris is the capital city of France. Contrary to popular belief, the name of the city did not come from the Paris in Greek myths. Located in the north of Central France, the city is relatively flat with the highest point being 427 feet (which is Montmartre) above sea level while the lowest point is 115 feet above the sea level. With a GDP of approximately $850 billion, Paris is the country’s leader for economic activities. Tourists are attracted to Paris because of the rich history the city has including its monuments and sights. As the capital city of France, the city plays host to the national government of France. How Many Countries Are There In Africa? [x] Countries  All Countries',\n",
       "   'score': 0.9170729,\n",
       "   'raw_content': None},\n",
       "  {'title': 'Paris - Wikipedia',\n",
       "   'url': 'https://en.wikipedia.org/wiki/Paris',\n",
       "   'content': \"Paris (French pronunciation: [paʁi] ⓘ) is the capital and largest city of France. With an estimated population of 2,048,472 residents in January 2025 [3] in an area of more than 105 km 2 (41 sq mi), [4] Paris is the fourth-most populous city in the European Union and the 30th most densely populated city in the world in 2022. [5] Since the 17th century, Paris has been one of the world's\",\n",
       "   'score': 0.8896154,\n",
       "   'raw_content': None},\n",
       "  {'title': 'What is the Capital of France? - Mappr',\n",
       "   'url': 'https://www.mappr.co/capital-cities/france/',\n",
       "   'content': 'mappr logo mappr logo Also known as the “City of Light,” is not only the capital but also the most populous city of France. Each epoch has left a distinctive mark on the city’s character, making Paris a rich tapestry of historical and cultural experiences. The city is a leading center for high-tech industries, including information technology and software services. Jardins du Trocadéro and Eiffel Tower, Paris Constructed between 1861 and 1875 to serve as the opera house for the Paris Opera, the Palais Garnier is a marvel of architectural artistry. ### When is the best time to visit Paris? Whether it’s your first visit or you’re a frequent traveler returning to rediscover its charm, Paris invariably has something fresh and exciting to offer. Copyright © 2025 Mappr',\n",
       "   'score': 0.7969415,\n",
       "   'raw_content': None},\n",
       "  {'title': 'Paris Facts | Britannica',\n",
       "   'url': 'https://www.britannica.com/facts/Paris',\n",
       "   'content': 'Encyclopedia Britannica Encyclopedia Britannica Paris; Eiffel Tower Paris Paris, Paris Gerald R. Ford playing golf during a working vacation on Mackinac Island in Michigan, July 13, 1975. Gerald Ford. Periodical Cicada, Adult, Magicicada spp. Nymph splits its skin, and transforms into an adult. Northern Illinois Brood. This brood is the largest emergence of cicadas anywhere *Encyclopædia Britannica*, and create and manage the relationships between them. Paris; Eiffel Tower Paris Paris, Paris Tour the city of Paris and explore the Eiffel Tower, the Sacre-Coeur cathedral, and the Louvre Explore the breathtaking architecture of Eiffel Tower, Louvre Pyramid, Arc de Triomphe and the bustling city life of Paris',\n",
       "   'score': 0.29449943,\n",
       "   'raw_content': None}],\n",
       " 'response_time': 1.37}"
      ]
     },
     "execution_count": 2,
     "metadata": {},
     "output_type": "execute_result"
    }
   ],
   "source": [
    "tavily_tool.invoke(\"What is the capital of France?\")"
   ]
  },
  {
   "cell_type": "markdown",
   "id": "3dcda478-fa80-4e3e-bb35-0f622fe73a31",
   "metadata": {},
   "source": [
    "## Define our Execution Agent\n",
    "\n",
    "Now we will create the execution agent we want to use to execute tasks. \n",
    "Note that for this example, we will be using the same execution agent for each task, but this doesn't HAVE to be the case."
   ]
  },
  {
   "cell_type": "code",
   "execution_count": 3,
   "id": "72d233ca-1dbf-4b43-b680-b3bf39e3691f",
   "metadata": {},
   "outputs": [],
   "source": [
    "from langchain_openai import AzureChatOpenAI\n",
    "\n",
    "from langgraph.prebuilt import create_react_agent\n",
    "\n",
    "# Choose the LLM that will drive the agent\n",
    "llm = AzureChatOpenAI(model=\"gpt-4.1-mini\")\n",
    "prompt = \"You are a helpful assistant.\"\n",
    "agent_executor = create_react_agent(llm, tools, prompt=prompt)"
   ]
  },
  {
   "cell_type": "code",
   "execution_count": 4,
   "id": "746e697a-dec4-4342-a814-9b3456828169",
   "metadata": {},
   "outputs": [
    {
     "name": "stdout",
     "output_type": "stream",
     "text": [
      "================================\u001b[1m Human Message \u001b[0m=================================\n",
      "\n",
      "Give me 5 must see museums in Paris\n",
      "==================================\u001b[1m Ai Message \u001b[0m==================================\n",
      "\n",
      "Sure! Here are 5 must-see museums in Paris:\n",
      "\n",
      "1. The Louvre Museum (Musée du Louvre) - The world's largest art museum, home to the Mona Lisa and countless other masterpieces.\n",
      "2. Musée d'Orsay - Famous for its extensive collection of Impressionist and Post-Impressionist masterpieces.\n",
      "3. Centre Pompidou - Known for its modern art collections and unique architecture.\n",
      "4. Musée de l'Orangerie - Renowned for Monet's Water Lilies series.\n",
      "5. Musée Rodin - Dedicated to the works of the sculptor Auguste Rodin, set in a beautiful garden.\n",
      "\n",
      "Would you like more detailed information on any of these?\n"
     ]
    }
   ],
   "source": [
    "state = agent_executor.invoke({\"messages\": [(\"user\", \"Give me 5 must see museums in Paris\")]})\n",
    "\n",
    "for message in state[\"messages\"]:\n",
    "    message.pretty_print()"
   ]
  },
  {
   "cell_type": "markdown",
   "id": "e475acc0",
   "metadata": {},
   "source": [
    "## Setup State\n",
    "Intermediate memory for each step undertaken"
   ]
  },
  {
   "cell_type": "code",
   "execution_count": 5,
   "id": "8eeeaeea-8f10-4fbe-8e24-4e1a2381a009",
   "metadata": {},
   "outputs": [],
   "source": [
    "import operator\n",
    "from typing import Annotated, List, Tuple\n",
    "from typing_extensions import TypedDict\n",
    "\n",
    "\n",
    "class PlanExecute(TypedDict):\n",
    "    input: str\n",
    "    plan: List[str]\n",
    "    past_steps: Annotated[List[Tuple], operator.add]\n",
    "    response: str"
   ]
  },
  {
   "cell_type": "markdown",
   "id": "1dbd770a-9941-40a9-977e-4d55359eee21",
   "metadata": {},
   "source": [
    "## Planning Step\n",
    "\n",
    "Let's now think about creating the planning step. This will use function calling to create a plan."
   ]
  },
  {
   "cell_type": "code",
   "execution_count": 6,
   "id": "4a88626d-6dfd-4488-87f0-a9a0dd6da44c",
   "metadata": {},
   "outputs": [],
   "source": [
    "from pydantic import BaseModel, Field\n",
    "\n",
    "\n",
    "class Plan(BaseModel):\n",
    "    \"\"\"Plan to follow in future\"\"\"\n",
    "\n",
    "    steps: List[str] = Field(\n",
    "        description=\"different steps to follow, should be in sorted order\"\n",
    "    )"
   ]
  },
  {
   "cell_type": "code",
   "execution_count": 7,
   "id": "ec7b1867-1ea3-4df3-9a98-992a1c32ec49",
   "metadata": {},
   "outputs": [],
   "source": [
    "from langchain_core.prompts import ChatPromptTemplate\n",
    "\n",
    "planner_prompt = ChatPromptTemplate.from_messages(\n",
    "    [\n",
    "        (\n",
    "            \"system\",\n",
    "            \"\"\"For the given objective, come up with a simple step by step plan. \\\n",
    "This plan should involve individual tasks, that if executed correctly will yield the correct answer. Do not add any superfluous steps. \\\n",
    "The result of the final step should be the final answer. Make sure that each step has all the information needed - do not skip steps.\"\"\",\n",
    "        ),\n",
    "        (\"placeholder\", \"{messages}\"),\n",
    "    ]\n",
    ")\n",
    "planner = planner_prompt | llm.with_structured_output(Plan)"
   ]
  },
  {
   "cell_type": "code",
   "execution_count": 8,
   "id": "67ce37b7-e089-479b-bcb8-c3f5d9874613",
   "metadata": {},
   "outputs": [
    {
     "data": {
      "text/plain": [
       "Plan(steps=['Identify the 5 must-see museums in Paris based on popularity and cultural significance.', 'For each museum, find the current entrance fee in euros from an official or reliable source.', 'Find the current exchange rate from euros to Indian rupees (INR).', \"Convert each museum's entrance fee from euros to rupees using the exchange rate.\", 'List the 5 museums along with their entrance fees in rupees as the final answer.'])"
      ]
     },
     "execution_count": 8,
     "metadata": {},
     "output_type": "execute_result"
    }
   ],
   "source": [
    "planner.invoke(\n",
    "    {\n",
    "        \"messages\": [\n",
    "            (\"user\", \"i want 5 must see museums in paris , and what the entrance fee is in rupees\")\n",
    "        ]\n",
    "    }\n",
    ")"
   ]
  },
  {
   "cell_type": "markdown",
   "id": "6e09ad9d-6f90-4bdc-bb43-b1ce94517c29",
   "metadata": {},
   "source": [
    "## Re-Plan Step\n",
    "\n",
    "Now, let's create a step that re-does the plan based on the result of the previous step."
   ]
  },
  {
   "cell_type": "code",
   "execution_count": 9,
   "id": "ec2d12cc-016a-44d1-aa08-4c5ce1e8fe2a",
   "metadata": {},
   "outputs": [],
   "source": [
    "from typing import Union\n",
    "\n",
    "\n",
    "class Response(BaseModel):\n",
    "    \"\"\"Response to user.\"\"\"\n",
    "\n",
    "    response: str\n",
    "\n",
    "\n",
    "class Act(BaseModel):\n",
    "    \"\"\"Action to perform.\"\"\"\n",
    "\n",
    "    action: Union[Response, Plan] = Field(\n",
    "        description=\"Action to perform. If you want to respond to user, use Response. \"\n",
    "        \"If you need to further use tools to get the answer, use Plan.\"\n",
    "    )\n",
    "\n",
    "\n",
    "replanner_prompt = ChatPromptTemplate.from_template(\n",
    "    \"\"\"For the given objective, come up with a simple step by step plan. \\\n",
    "This plan should involve individual tasks, that if executed correctly will yield the correct answer. Do not add any superfluous steps. \\\n",
    "The result of the final step should be the final answer. Make sure that each step has all the information needed - do not skip steps.\n",
    "\n",
    "Your objective was this:\n",
    "{input}\n",
    "\n",
    "Your original plan was this:\n",
    "{plan}\n",
    "\n",
    "You have currently done the follow steps:\n",
    "{past_steps}\n",
    "\n",
    "Update your plan accordingly. If no more steps are needed and you can return to the user, then respond with that. Otherwise, fill out the plan. Only add steps to the plan that still NEED to be done. Do not return previously done steps as part of the plan.\"\"\"\n",
    ")\n",
    "\n",
    "\n",
    "replanner = replanner_prompt | llm.with_structured_output(Act)"
   ]
  },
  {
   "cell_type": "markdown",
   "id": "859abd13-6ba0-45ad-b341-e652dd5f755b",
   "metadata": {},
   "source": [
    "## Create the Graph\n",
    "\n",
    "We can now create the graph!"
   ]
  },
  {
   "cell_type": "code",
   "execution_count": 10,
   "id": "6c8e0dad-bcea-4c9a-8922-0d820892e2d0",
   "metadata": {},
   "outputs": [],
   "source": [
    "from typing import Literal\n",
    "from langgraph.graph import END\n",
    "\n",
    "\n",
    "async def execute_step(state: PlanExecute):\n",
    "    plan = state[\"plan\"]\n",
    "    plan_str = \"\\n\".join(f\"{i+1}. {step}\" for i, step in enumerate(plan))\n",
    "    task = plan[0]\n",
    "    task_formatted = f\"\"\"For the following plan:\n",
    "{plan_str}\\n\\nYou are tasked with executing step {1}, {task}.\"\"\"\n",
    "    agent_response = await agent_executor.ainvoke(\n",
    "        {\"messages\": [(\"user\", task_formatted)]}\n",
    "    )\n",
    "    return {\n",
    "        \"past_steps\": [(task, agent_response[\"messages\"][-1].content)],\n",
    "    }\n",
    "\n",
    "\n",
    "async def plan_step(state: PlanExecute):\n",
    "    plan = await planner.ainvoke({\"messages\": [(\"user\", state[\"input\"])]})\n",
    "    return {\"plan\": plan.steps}\n",
    "\n",
    "\n",
    "async def replan_step(state: PlanExecute):\n",
    "    output = await replanner.ainvoke(state)\n",
    "    if isinstance(output.action, Response):\n",
    "        return {\"response\": output.action.response}\n",
    "    else:\n",
    "        return {\"plan\": output.action.steps}\n",
    "\n",
    "\n",
    "def should_end(state: PlanExecute):\n",
    "    if \"response\" in state and state[\"response\"]:\n",
    "        return END\n",
    "    else:\n",
    "        return \"agent\""
   ]
  },
  {
   "cell_type": "code",
   "execution_count": 11,
   "id": "e954cea0-5ccc-46c2-a27b-f5b7185b597d",
   "metadata": {},
   "outputs": [],
   "source": [
    "from langgraph.graph import StateGraph, START\n",
    "\n",
    "workflow = StateGraph(PlanExecute)\n",
    "\n",
    "# Add the plan node\n",
    "workflow.add_node(\"planner\", plan_step)\n",
    "\n",
    "# Add the execution step\n",
    "workflow.add_node(\"agent\", execute_step)\n",
    "\n",
    "# Add a replan node\n",
    "workflow.add_node(\"replan\", replan_step)\n",
    "\n",
    "workflow.add_edge(START, \"planner\")\n",
    "\n",
    "# From plan we go to agent\n",
    "workflow.add_edge(\"planner\", \"agent\")\n",
    "\n",
    "# From agent, we replan\n",
    "workflow.add_edge(\"agent\", \"replan\")\n",
    "\n",
    "workflow.add_conditional_edges(\n",
    "    \"replan\",\n",
    "    # Next, we pass in the function that will determine which node is called next.\n",
    "    should_end,\n",
    "    [\"agent\", END],\n",
    ")\n",
    "\n",
    "# Finally, we compile it!\n",
    "# This compiles it into a LangChain Runnable,\n",
    "# meaning you can use it as you would any other runnable\n",
    "app = workflow.compile()"
   ]
  },
  {
   "cell_type": "code",
   "execution_count": 12,
   "id": "7363e528",
   "metadata": {},
   "outputs": [
    {
     "data": {
      "image/png": "[encoded data removed]",
      "text/plain": [
       "<IPython.core.display.Image object>"
      ]
     },
     "metadata": {},
     "output_type": "display_data"
    }
   ],
   "source": [
    "from IPython.display import Image, display\n",
    "\n",
    "display(Image(app.get_graph().draw_mermaid_png()))"
   ]
  },
  {
   "cell_type": "code",
   "execution_count": 14,
   "id": "b8ac1f67-e87a-427c-b4f7-44351295b788",
   "metadata": {},
   "outputs": [
    {
     "name": "stdout",
     "output_type": "stream",
     "text": [
      "{'plan': ['Identify 5 must-see museums in Paris.', 'Find the entrance fee for each museum in euros.', 'Convert each entrance fee from euros to Indian rupees using the current exchange rate.', 'List the 5 museums along with their entrance fee in rupees.']}\n",
      "{'past_steps': [('Identify 5 must-see museums in Paris.', \"Here are 5 must-see museums in Paris:\\n\\n1. The Louvre Museum - The largest art museum in the world with an extensive collection spanning thousands of years.\\n2. Musée d'Orsay - Known for its vast collection of Impressionist art.\\n3. Palais de Tokyo - The largest contemporary art center in Europe.\\n4. Picasso Museum - Dedicated to the works of Pablo Picasso.\\n5. Musée Carnavalet - Focuses on the history of Paris.\\n\\nWould you like me to proceed to find the entrance fees for these museums?\")]}\n",
      "{'plan': ['Find the entrance fee for each museum in euros.', 'Convert each entrance fee from euros to Indian rupees using the current exchange rate.', 'List the 5 museums along with their entrance fee in rupees.']}\n",
      "{'past_steps': [('Find the entrance fee for each museum in euros.', 'The entrance fees for the museums in euros are as follows:\\n\\n1. Louvre Museum: 22 euros\\n2. British Museum: Free admission to the permanent collection (special exhibitions may have a fee)\\n3. Vatican Museums: 25 euros (20 euros when purchased at the ticket office)\\n4. Metropolitan Museum of Art: $30 for adults (Note: Fee is in dollars, not euros)\\n5. Rijksmuseum: 17.50 to 25 euros depending on the source and visitor age\\n\\nWould you like me to proceed to step 2 and convert these fees to Indian rupees using the current exchange rate? Also, please confirm if the USD fee for the Metropolitan Museum of Art should be converted or if you want information only for the museums with fees in euros.')]}\n",
      "{'plan': ['Correct the list to only include museums in Paris and their entrance fees in euros.', 'Convert the entrance fee of each museum from euros to Indian rupees using the current exchange rate.', 'List the 5 Paris museums along with their entrance fee in rupees.']}\n",
      "{'past_steps': [('Correct the list to only include museums in Paris and their entrance fees in euros.', 'Here is the corrected list of museums in Paris along with their entrance fees in euros:\\n\\n1. Musée du Louvre: General admission €22.00\\n2. Musée National Eugène-Delacroix: €9.00\\n3. Guided tours, storytime and workshops at the Louvre: €12.00 (excluding admission)\\n(Note: The search results primarily provided detailed entrance fees for the Louvre and the Musée National Eugène-Delacroix. If you have other museums in your original list, please share them so I can verify their location and entrance fees in Paris.)')]}\n",
      "{'plan': [\"Find the entrance fee for each of the 5 must-see museums in Paris in euros (Louvre Museum, Musée d'Orsay, Palais de Tokyo, Picasso Museum, Musée Carnavalet).\", 'Convert the entrance fee of each museum from euros to Indian rupees using the current exchange rate.', 'List the 5 Paris museums along with their entrance fee in rupees.']}\n",
      "{'past_steps': [(\"Find the entrance fee for each of the 5 must-see museums in Paris in euros (Louvre Museum, Musée d'Orsay, Palais de Tokyo, Picasso Museum, Musée Carnavalet).\", \"The entrance fees for the 5 must-see museums in Paris in euros are as follows:\\n\\n1. Louvre Museum: €22.00\\n2. Musée d'Orsay: (The exact entrance fee wasn't directly found in the search snippets, usually about €16 but will confirm with the official source or continue to step 2 for conversion)\\n3. Palais de Tokyo: €13.00 (reduced fee €9.00 for certain categories)\\n4. Picasso Museum: €11.00\\n5. Musée Carnavalet: Free (access to permanent collections is free) \\n\\nI can now proceed to step 2 and convert these fees from euros to Indian rupees using the current exchange rate if you want.\")]}\n",
      "{'plan': ['Obtain the current exchange rate from euros to Indian rupees.', 'Convert the entrance fee of each of the 5 museums from euros to Indian rupees using the obtained exchange rate.', 'List the 5 Paris museums along with their entrance fee in Indian rupees.']}\n",
      "{'past_steps': [('Obtain the current exchange rate from euros to Indian rupees.', 'The current exchange rate from euros to Indian rupees is approximately 1 Euro = 91.50 Indian Rupees, according to XE.com.\\n\\nWould you like me to proceed with converting the entrance fees of the 5 museums from euros to Indian rupees using this rate? If yes, please provide the entrance fees in euros for each museum.')]}\n",
      "{'plan': ['Convert the entrance fees of the 5 museums from euros to Indian rupees using the exchange rate of 1 Euro = 91.50 Indian Rupees.', 'List the 5 must-see museums in Paris along with their entrance fees in Indian rupees.']}\n",
      "{'past_steps': [('Convert the entrance fees of the 5 museums from euros to Indian rupees using the exchange rate of 1 Euro = 91.50 Indian Rupees.', 'Please provide the entrance fees of the 5 museums in euros so that I can convert them to Indian rupees using the exchange rate of 1 Euro = 91.50 Indian Rupees.')]}\n",
      "{'plan': ['Convert the entrance fees of the 5 museums from euros to Indian rupees using the exchange rate of 1 Euro = 91.50 Indian Rupees.', 'List the 5 must-see museums in Paris along with their entrance fees in Indian rupees.']}\n",
      "{'past_steps': [('Convert the entrance fees of the 5 museums from euros to Indian rupees using the exchange rate of 1 Euro = 91.50 Indian Rupees.', 'Please provide the entrance fees of the 5 museums in euros that you want to convert to Indian rupees.')]}\n",
      "{'plan': ['Convert the entrance fees of the 5 museums from euros to Indian rupees using the exchange rate of 1 Euro = 91.50 Indian Rupees.', 'List the 5 must-see museums in Paris along with their entrance fees in Indian rupees, including noting free access where applicable.']}\n",
      "{'past_steps': [('Convert the entrance fees of the 5 museums from euros to Indian rupees using the exchange rate of 1 Euro = 91.50 Indian Rupees.', 'Please provide the entrance fees of the 5 museums in euros so that I can convert them to Indian rupees using the exchange rate of 1 Euro = 91.50 Indian Rupees.')]}\n",
      "{'plan': ['Convert the entrance fees of the 5 museums from euros to Indian rupees using the exchange rate of 1 Euro = 91.50 Indian Rupees.', 'List the 5 must-see museums in Paris along with their entrance fees in Indian rupees, including noting free access where applicable.']}\n",
      "{'past_steps': [('Convert the entrance fees of the 5 museums from euros to Indian rupees using the exchange rate of 1 Euro = 91.50 Indian Rupees.', 'Please provide the entrance fees of the 5 museums in euros so I can convert them to Indian rupees using the exchange rate of 1 Euro = 91.50 Indian Rupees.')]}\n",
      "{'plan': ['Convert the entrance fees of the 5 museums from euros to Indian rupees using the exchange rate of 1 Euro = 91.50 Indian Rupees.', 'List the 5 must-see museums in Paris along with their entrance fees in Indian rupees, including noting free access where applicable.']}\n",
      "{'past_steps': [('Convert the entrance fees of the 5 museums from euros to Indian rupees using the exchange rate of 1 Euro = 91.50 Indian Rupees.', 'Please provide the entrance fees in euros for the 5 museums, and I will convert them to Indian rupees for you.')]}\n",
      "{'plan': ['Convert the entrance fees of the 5 must-see museums in Paris from euros to Indian rupees using the exchange rate of 1 Euro = 91.50 Indian Rupees.', 'List the 5 must-see museums in Paris along with their entrance fees in Indian rupees, noting free access where applicable.']}\n",
      "{'past_steps': [('Convert the entrance fees of the 5 must-see museums in Paris from euros to Indian rupees using the exchange rate of 1 Euro = 91.50 Indian Rupees.', 'Please provide me with the entrance fees in euros for the 5 must-see museums in Paris so that I can convert them to Indian rupees using the exchange rate of 1 Euro = 91.50 Indian Rupees.')]}\n",
      "{'plan': ['Convert the known entrance fees of the 5 must-see museums in Paris from euros to Indian rupees using the exchange rate of 1 Euro = 91.50 Indian Rupees.', 'List the 5 must-see museums in Paris along with their entrance fees converted in Indian rupees, noting free access where applicable.']}\n",
      "{'past_steps': [('Convert the known entrance fees of the 5 must-see museums in Paris from euros to Indian rupees using the exchange rate of 1 Euro = 91.50 Indian Rupees.', 'Please provide the known entrance fees in euros for the 5 must-see museums in Paris that you want to convert to Indian rupees.')]}\n",
      "{'plan': ['Convert the entrance fees of the 5 must-see museums in Paris from euros to Indian rupees using the exchange rate of 1 Euro = 91.50 Indian Rupees.', 'List the 5 must-see museums in Paris along with their entrance fees converted in Indian rupees, noting free access where applicable.']}\n",
      "{'past_steps': [('Convert the entrance fees of the 5 must-see museums in Paris from euros to Indian rupees using the exchange rate of 1 Euro = 91.50 Indian Rupees.', 'Based on the search results, here are the entrance fees for 5 must-see museums in Paris in euros, which I will convert to Indian rupees using the exchange rate of 1 Euro = 91.50 Indian Rupees:\\n\\n1. Louvre Museum - 22 Euros\\n2. Rodin Museum - 14 Euros\\n3. Sainte-Chapelle - 13 Euros\\n4. Grévin Wax Museum - 27.50 Euros\\n5. Musée de l’Orangerie - 12.50 Euros\\n\\nNow, let me convert these fees to Indian rupees.\\nConverted entrance fees from euros to Indian rupees (1 Euro = 91.50 INR):\\n\\n1. Louvre Museum: 22 Euros × 91.50 = 2013.00 INR\\n2. Rodin Museum: 14 Euros × 91.50 = 1281.00 INR\\n3. Sainte-Chapelle: 13 Euros × 91.50 = 1189.50 INR\\n4. Grévin Wax Museum: 27.50 Euros × 91.50 = 2516.25 INR\\n5. Musée de l’Orangerie: 12.50 Euros × 91.50 = 1143.75 INR\\n\\nThese are the entrance fees for the 5 must-see museums in Paris converted to Indian rupees. Would you like me to proceed to step 2 and list these museums with their entrance fees in INR?')]}\n",
      "{'response': 'Here are 5 must-see museums in Paris along with their entrance fees converted to Indian Rupees (1 Euro = 91.50 INR):\\n\\n1. Louvre Museum: 2013.00 INR\\n2. Rodin Museum: 1281.00 INR\\n3. Sainte-Chapelle: 1189.50 INR\\n4. Grévin Wax Museum: 2516.25 INR\\n5. Musée de l’Orangerie: 1143.75 INR\\n\\nThese are the entrance fees for the 5 must-see museums in Paris converted to Indian rupees. Let me know if you need any further information!'}\n"
     ]
    }
   ],
   "source": [
    "config = {\"recursion_limit\": 50}\n",
    "inputs = {\"input\": \"i want 5 must see museums in paris , and what the entrance fee is in rupees\"}\n",
    "async for event in app.astream(inputs, config=config):\n",
    "    for k, v in event.items():\n",
    "        if k != \"__end__\":\n",
    "            print(v)"
   ]
  },
  {
   "cell_type": "code",
   "execution_count": null,
   "id": "628ce907",
   "metadata": {},
   "outputs": [],
   "source": []
  }
 ],
 "metadata": {
  "kernelspec": {
   "display_name": ".venv",
   "language": "python",
   "name": "python3"
  },
  "language_info": {
   "codemirror_mode": {
    "name": "ipython",
    "version": 3
   },
   "file_extension": ".py",
   "mimetype": "text/x-python",
   "name": "python",
   "nbconvert_exporter": "python",
   "pygments_lexer": "ipython3",
   "version": "3.11.9"
  }
 },
 "nbformat": 4,
 "nbformat_minor": 5
}
