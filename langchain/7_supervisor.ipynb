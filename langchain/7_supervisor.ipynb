{
 "cells": [
  {
   "cell_type": "markdown",
   "id": "04847e68",
   "metadata": {},
   "source": [
    "# 7. Supervisor"
   ]
  },
  {
   "cell_type": "markdown",
   "id": "acf25b17",
   "metadata": {},
   "source": [
    "TODO"
   ]
  }
 ],
 "metadata": {
  "language_info": {
   "name": "python"
  }
 },
 "nbformat": 4,
 "nbformat_minor": 5
}
