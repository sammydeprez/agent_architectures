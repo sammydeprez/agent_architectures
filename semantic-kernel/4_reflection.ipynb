{
 "cells": [
  {
   "cell_type": "markdown",
   "id": "f6ab4402",
   "metadata": {},
   "source": [
    "# 4. Reflection Pattern with Semantic Kernel"
   ]
  },
  {
   "cell_type": "markdown",
   "id": "20d05f16",
   "metadata": {},
   "source": [
    "The reflection pattern involves an agent generating content and then having another agent (or the same agent) reflect on that content to verify it meets certain criteria. If the criteria aren't met, the agent refines the content. This pattern is useful for ensuring quality and completeness of responses."
   ]
  },
  {
   "cell_type": "code",
   "execution_count": null,
   "id": "aa434df4",
   "metadata": {},
   "outputs": [],
   "source": [
    "from semantic_kernel import Kernel\n",
    "from semantic_kernel.connectors.ai.open_ai.services.azure_chat_completion import AzureChatCompletion\n",
    "from semantic_kernel.contents import ChatHistory\n",
    "from semantic_kernel.functions import kernel_function\n",
    "from semantic_kernel.agents import ChatCompletionAgent\n",
    "from typing import Annotated, List, Dict, Any\n",
    "import json"
   ]
  },
  {
   "cell_type": "markdown",
   "id": "kernel_setup",
   "metadata": {},
   "source": [
    "Set up the kernel and service"
   ]
  },
  {
   "cell_type": "code",
   "execution_count": null,
   "id": "94a0b8f9",
   "metadata": {},
   "outputs": [],
   "source": [
    "# Create a kernel instance\n",
    "kernel = Kernel()\n",
    "\n",
    "# Add Azure OpenAI chat completion service\n",
    "service_id = \"azure_openai\"\n",
    "kernel.add_service(\n",
    "    AzureChatCompletion(\n",
    "        service_id=service_id,\n",
    "        deployment_name=\"gpt-4.1-mini\",\n",
    "    )\n",
    ")"
   ]
  },
  {
   "cell_type": "markdown",
   "id": "travel_agent_creation",
   "metadata": {},
   "source": [
    "Create the travel advice agent"
   ]
  },
  {
   "cell_type": "code",
   "execution_count": null,
   "id": "travel_agent",
   "metadata": {},
   "outputs": [],
   "source": [
    "# Travel Advisor Agent\n",
    "travel_agent = ChatCompletionAgent(\n",
    "    service_id=service_id,\n",
    "    kernel=kernel,\n",
    "    name=\"TravelAdvisor\",\n",
    "    instructions=\"\"\"You are a helpful assistant that gives comprehensive travel advice based on the user's input.\n",
    "    \n",
    "Provide detailed information about destinations including:\n",
    "- Sports activities and facilities available\n",
    "- Cultural attractions and experiences\n",
    "- Historical sites and significance\n",
    "\n",
    "Always strive to include information about all three aspects when possible.\"\"\",\n",
    "    execution_settings={\n",
    "        service_id: kernel.get_prompt_execution_settings_from_service_id(service_id)\n",
    "    }\n",
    ")"
   ]
  },
  {
   "cell_type": "markdown",
   "id": "reflection_agent_creation",
   "metadata": {},
   "source": [
    "Create the reflection agent"
   ]
  },
  {
   "cell_type": "code",
   "execution_count": null,
   "id": "reflection_agent",
   "metadata": {},
   "outputs": [],
   "source": [
    "# Reflection Agent\n",
    "reflection_agent = ChatCompletionAgent(\n",
    "    service_id=service_id,\n",
    "    kernel=kernel,\n",
    "    name=\"ContentReflector\",\n",
    "    instructions=\"\"\"You are a content expert that validates travel advice for completeness.\n",
    "    \n",
    "Analyze the provided travel advice and check if it contains information about these topics:\n",
    "- sports: Sports activities, facilities, recreational activities\n",
    "- cultural: Cultural attractions, local customs, arts, festivals\n",
    "- historical: Historical sites, monuments, historical significance\n",
    "\n",
    "Respond with ONLY a JSON object in this exact format:\n",
    "{\n",
    "  \"sports\": {\"present\": true/false, \"details\": \"explanation\"},\n",
    "  \"cultural\": {\"present\": true/false, \"details\": \"explanation\"},\n",
    "  \"historical\": {\"present\": true/false, \"details\": \"explanation\"},\n",
    "  \"missing_topics\": [\"list of missing topic names\"]\n",
    "}\n",
    "\n",
    "Do not include any other text or formatting.\"\"\",\n",
    "    execution_settings={\n",
    "        service_id: kernel.get_prompt_execution_settings_from_service_id(service_id)\n",
    "    }\n",
    ")"
   ]
  },
  {
   "cell_type": "markdown",
   "id": "reflection_functions",
   "metadata": {},
   "source": [
    "Create reflection workflow functions"
   ]
  },
  {
   "cell_type": "code",
   "execution_count": null,
   "id": "reflection_workflow",
   "metadata": {},
   "outputs": [],
   "source": [
    "async def get_travel_advice(user_query: str, additional_requirements: str = \"\") -> str:\n",
    "    \"\"\"\n",
    "    Get travel advice from the travel agent\n",
    "    \"\"\"\n",
    "    print(\"→ Generating travel advice...\")\n",
    "    \n",
    "    chat_history = ChatHistory()\n",
    "    \n",
    "    # Add the original user query\n",
    "    full_query = user_query\n",
    "    if additional_requirements:\n",
    "        full_query += f\"\\n\\nAdditional requirements: {additional_requirements}\"\n",
    "    \n",
    "    chat_history.add_user_message(full_query)\n",
    "    \n",
    "    async for response in travel_agent.invoke(chat_history):\n",
    "        return str(response.content)\n",
    "    \n",
    "    return \"Unable to generate travel advice.\"\n",
    "\n",
    "async def reflect_on_content(content: str) -> Dict[str, Any]:\n",
    "    \"\"\"\n",
    "    Reflect on the travel advice content to check completeness\n",
    "    \"\"\"\n",
    "    print(\"→ Reflecting on content quality...\")\n",
    "    \n",
    "    chat_history = ChatHistory()\n",
    "    chat_history.add_user_message(f\"Please analyze this travel advice for completeness:\\n\\n{content}\")\n",
    "    \n",
    "    async for response in reflection_agent.invoke(chat_history):\n",
    "        try:\n",
    "            reflection_result = json.loads(str(response.content))\n",
    "            return reflection_result\n",
    "        except json.JSONDecodeError:\n",
    "            print(f\"Failed to parse reflection response: {response.content}\")\n",
    "            return {\"missing_topics\": []}\n",
    "    \n",
    "    return {\"missing_topics\": []}"
   ]
  },
  {
   "cell_type": "markdown",
   "id": "main_reflection_loop",
   "metadata": {},
   "source": [
    "Create the main reflection workflow"
   ]
  },
  {
   "cell_type": "code",
   "execution_count": null,
   "id": "reflection_main",
   "metadata": {},
   "outputs": [],
   "source": [
    "async def reflection_workflow(user_query: str, max_iterations: int = 3) -> str:\n",
    "    \"\"\"\n",
    "    Main reflection workflow that iteratively improves content\n",
    "    \"\"\"\n",
    "    print(f\"Starting reflection workflow for: '{user_query}'\\n\")\n",
    "    \n",
    "    current_advice = \"\"\n",
    "    additional_requirements = \"\"\n",
    "    \n",
    "    for iteration in range(max_iterations):\n",
    "        print(f\"=== Iteration {iteration + 1} ===\")\n",
    "        \n",
    "        # Generate or refine travel advice\n",
    "        current_advice = await get_travel_advice(user_query, additional_requirements)\n",
    "        \n",
    "        # Reflect on the content\n",
    "        reflection = await reflect_on_content(current_advice)\n",
    "        \n",
    "        missing_topics = reflection.get(\"missing_topics\", [])\n",
    "        \n",
    "        print(f\"Missing topics: {missing_topics}\")\n",
    "        \n",
    "        # If no topics are missing, we're done\n",
    "        if not missing_topics:\n",
    "            print(\"✅ Content is complete!\")\n",
    "            break\n",
    "        \n",
    "        # Prepare additional requirements for next iteration\n",
    "        if iteration < max_iterations - 1:\n",
    "            additional_requirements = f\"Please extend your response with more information about: {', '.join(missing_topics)}\"\n",
    "            print(f\"→ Requesting additional information about: {', '.join(missing_topics)}\\n\")\n",
    "        else:\n",
    "            print(f\"⚠️ Maximum iterations reached. Some topics may still be missing: {missing_topics}\")\n",
    "    \n",
    "    return current_advice"
   ]
  },
  {
   "cell_type": "markdown",
   "id": "test_reflection",
   "metadata": {},
   "source": [
    "Test the reflection workflow"
   ]
  },
  {
   "cell_type": "code",
   "execution_count": null,
   "id": "test_basic",
   "metadata": {},
   "outputs": [],
   "source": [
    "# Test with a simple query\n",
    "user_query = \"Perth\"\n",
    "final_advice = await reflection_workflow(user_query)\n",
    "\n",
    "print(\"\\n\" + \"=\"*50)\n",
    "print(\"FINAL TRAVEL ADVICE:\")\n",
    "print(\"=\"*50)\n",
    "print(final_advice)"
   ]
  },
  {
   "cell_type": "markdown",
   "id": "test_complex",
   "metadata": {},
   "source": [
    "Test with a more complex query"
   ]
  },
  {
   "cell_type": "code",
   "execution_count": null,
   "id": "test_complex_query",
   "metadata": {},
   "outputs": [],
   "source": [
    "# Test with a more detailed query\n",
    "complex_query = \"I want to visit Rome for a week. What should I know?\"\n",
    "final_advice = await reflection_workflow(complex_query)\n",
    "\n",
    "print(\"\\n\" + \"=\"*50)\n",
    "print(\"FINAL TRAVEL ADVICE FOR ROME:\")\n",
    "print(\"=\"*50)\n",
    "print(final_advice)"
   ]
  },
  {
   "cell_type": "markdown",
   "id": "demo_detailed_reflection",
   "metadata": {},
   "source": [
    "## Detailed Reflection Analysis\n",
    "\n",
    "Let's see what the reflection agent analyzes in detail:"
   ]
  },
  {
   "cell_type": "code",
   "execution_count": null,
   "id": "detailed_reflection",
   "metadata": {},
   "outputs": [],
   "source": [
    "# Get initial advice\n",
    "initial_advice = await get_travel_advice(\"Tokyo\")\n",
    "print(\"Initial Advice:\")\n",
    "print(\"-\" * 30)\n",
    "print(initial_advice)\n",
    "\n",
    "# Get detailed reflection\n",
    "reflection_analysis = await reflect_on_content(initial_advice)\n",
    "print(\"\\n\\nReflection Analysis:\")\n",
    "print(\"-\" * 30)\n",
    "print(json.dumps(reflection_analysis, indent=2))"
   ]
  },
  {
   "cell_type": "markdown",
   "id": "key_differences",
   "metadata": {},
   "source": [
    "## Key Differences from LangChain Reflection\n",
    "\n",
    "1. **Agent-Based Reflection**: Uses dedicated `ChatCompletionAgent` instances for different roles (advisor and reflector) rather than stateless functions.\n",
    "\n",
    "2. **Simplified Workflow**: Instead of complex graph states and commands, uses a straightforward async workflow function that's easy to understand and modify.\n",
    "\n",
    "3. **Flexible Iteration Control**: Easy to control the number of reflection iterations and customize the improvement process.\n",
    "\n",
    "4. **Structured Analysis**: The reflection agent provides detailed JSON analysis of content completeness, making it easy to understand what's missing.\n",
    "\n",
    "5. **Natural Language Coordination**: Agents communicate through natural language rather than structured state objects.\n",
    "\n",
    "6. **Better Separation of Concerns**: Each agent has a specific role and can be independently configured and tested.\n",
    "\n",
    "7. **Incremental Improvement**: Each iteration builds upon the previous result, maintaining context and continuity.\n",
    "\n",
    "### Benefits:\n",
    "\n",
    "- **Maintainability**: Simple workflow logic that's easy to debug and modify\n",
    "- **Flexibility**: Easy to adjust reflection criteria or add new validation rules\n",
    "- **Transparency**: Clear visibility into what the reflection agent is analyzing\n",
    "- **Scalability**: Can easily add more specialized reflection agents for different criteria\n",
    "- **Reusability**: Reflection agents can be reused across different workflows\n",
    "\n",
    "### Use Cases:\n",
    "\n",
    "- **Content Quality Assurance**: Ensuring responses meet specific quality criteria\n",
    "- **Completeness Validation**: Verifying all required topics are covered\n",
    "- **Iterative Refinement**: Progressively improving content through multiple rounds\n",
    "- **Multi-criteria Evaluation**: Checking multiple aspects of generated content\n",
    "- **Educational Content**: Ensuring learning materials cover all required topics\""
   ]
  }
 ],
 "metadata": {
  "kernelspec": {
   "display_name": "Python 3",
   "language": "python",
   "name": "python3"
  },
  "language_info": {
   "codemirror_mode": {
    "name": "ipython",
    "version": 3
   },
   "file_extension": ".py",
   "mimetype": "text/x-python",
   "name": "python",
   "nbconvert_exporter": "python",
   "pygments_lexer": "ipython3",
   "version": "3.11.9"
  }
 },
 "nbformat": 4,
 "nbformat_minor": 5
}