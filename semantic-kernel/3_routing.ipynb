{
 "cells": [
  {
   "cell_type": "markdown",
   "id": "1e6d69e4",
   "metadata": {},
   "source": [
    "# 3. Agent Routing / Supervisor with Semantic Kernel"
   ]
  },
  {
   "cell_type": "markdown",
   "id": "d7569c00",
   "metadata": {},
   "source": [
    "In this pattern, a supervisor agent routes user queries to specialized agents based on the content of the request. Semantic Kernel makes this pattern easy to implement using multiple specialized agents coordinated by a router agent."
   ]
  },
  {
   "cell_type": "code",
   "execution_count": null,
   "id": "aa434df4",
   "metadata": {},
   "outputs": [],
   "source": [
    "from semantic_kernel import Kernel\n",
    "from semantic_kernel.connectors.ai.open_ai.services.azure_chat_completion import AzureChatCompletion\n",
    "from semantic_kernel.contents import ChatHistory\n",
    "from semantic_kernel.functions import kernel_function\n",
    "from semantic_kernel.agents import ChatCompletionAgent\n",
    "from semantic_kernel.connectors.ai.function_choice_behavior import FunctionChoiceBehavior\n",
    "from typing import Annotated, Literal\n",
    "import json"
   ]
  },
  {
   "cell_type": "markdown",
   "id": "kernel_setup",
   "metadata": {},
   "source": [
    "Set up the kernel and service"
   ]
  },
  {
   "cell_type": "code",
   "execution_count": null,
   "id": "94a0b8f9",
   "metadata": {},
   "outputs": [],
   "source": [
    "# Create a kernel instance\n",
    "kernel = Kernel()\n",
    "\n",
    "# Add Azure OpenAI chat completion service\n",
    "service_id = \"azure_openai\"\n",
    "kernel.add_service(\n",
    "    AzureChatCompletion(\n",
    "        service_id=service_id,\n",
    "        deployment_name=\"gpt-4.1-mini\",\n",
    "    )\n",
    ")"
   ]
  },
  {
   "cell_type": "markdown",
   "id": "weather_plugin",
   "metadata": {},
   "source": [
    "Create specialized plugins and agents"
   ]
  },
  {
   "cell_type": "code",
   "execution_count": null,
   "id": "5a632a21",
   "metadata": {},
   "outputs": [],
   "source": [
    "class WeatherPlugin:\n",
    "    \"\"\"\n",
    "    A plugin that provides weather information for specific cities.\n",
    "    \"\"\"\n",
    "    \n",
    "    @kernel_function(\n",
    "        description=\"Get the current weather for a specified location\",\n",
    "        name=\"get_weather\"\n",
    "    )\n",
    "    def get_weather(\n",
    "        self,\n",
    "        location: Annotated[str, \"The name of the city to get the weather for. Must be one of 'Chicago', 'New York', or 'Los Angeles'\"]\n",
    "    ) -> Annotated[str, \"A string describing the current weather in the specified location\"]:\n",
    "        \"\"\"\n",
    "        Get the current weather for a specified location.\n",
    "        \"\"\"\n",
    "        weather_data = {\n",
    "            \"New York\": \"Sunny, 25°C\",\n",
    "            \"Los Angeles\": \"Cloudy, 22°C\",\n",
    "            \"Chicago\": \"Rainy, 18°C\"\n",
    "        }\n",
    "        return weather_data.get(location, \"Weather data not available for this location.\")\n",
    "\n",
    "# Create specialized kernels for different agents\n",
    "weather_kernel = Kernel()\n",
    "weather_kernel.add_service(\n",
    "    AzureChatCompletion(\n",
    "        service_id=service_id,\n",
    "        deployment_name=\"gpt-4.1-mini\",\n",
    "    )\n",
    ")\n",
    "weather_kernel.add_plugin(WeatherPlugin(), plugin_name=\"weather\")"
   ]
  },
  {
   "cell_type": "markdown",
   "id": "travel_agent",
   "metadata": {},
   "source": [
    "Create travel advisor agent"
   ]
  },
  {
   "cell_type": "code",
   "execution_count": null,
   "id": "travel_setup",
   "metadata": {},
   "outputs": [],
   "source": [
    "# Create travel advisor kernel (no special plugins needed)\n",
    "travel_kernel = Kernel()\n",
    "travel_kernel.add_service(\n",
    "    AzureChatCompletion(\n",
    "        service_id=service_id,\n",
    "        deployment_name=\"gpt-4.1-mini\",\n",
    "    )\n",
    ")"
   ]
  },
  {
   "cell_type": "markdown",
   "id": "create_agents",
   "metadata": {},
   "source": [
    "Create specialized agents"
   ]
  },
  {
   "cell_type": "code",
   "execution_count": null,
   "id": "agent_creation",
   "metadata": {},
   "outputs": [],
   "source": [
    "# Weather Agent\n",
    "weather_agent = ChatCompletionAgent(\n",
    "    service_id=service_id,\n",
    "    kernel=weather_kernel,\n",
    "    name=\"WeatherAgent\",\n",
    "    instructions=\"You are a weather specialist. Use the weather tools to provide accurate weather information for supported cities.\",\n",
    "    execution_settings={\n",
    "        service_id: weather_kernel.get_prompt_execution_settings_from_service_id(service_id)\n",
    "    }\n",
    ")\n",
    "weather_agent.execution_settings[service_id].function_choice_behavior = FunctionChoiceBehavior.Auto()\n",
    "\n",
    "# Travel Advisor Agent\n",
    "travel_agent = ChatCompletionAgent(\n",
    "    service_id=service_id,\n",
    "    kernel=travel_kernel,\n",
    "    name=\"TravelAgent\",\n",
    "    instructions=\"You are a travel expert. Based on the user's input, suggest 1 travel destination with helpful details.\",\n",
    "    execution_settings={\n",
    "        service_id: travel_kernel.get_prompt_execution_settings_from_service_id(service_id)\n",
    "    }\n",
    ")\n",
    "\n",
    "# Router Agent\n",
    "router_agent = ChatCompletionAgent(\n",
    "    service_id=service_id,\n",
    "    kernel=kernel,\n",
    "    name=\"RouterAgent\",\n",
    "    instructions=\"\"\"You are a router that determines which specialist to use for user queries.\n",
    "    \n",
    "Respond with ONLY a JSON object in this exact format:\n",
    "{\"agent\": \"weather\"} - for weather-related questions\n",
    "{\"agent\": \"travel\"} - for travel advice questions  \n",
    "{\"agent\": \"unknown\"} - if you're unsure or the query doesn't fit\n",
    "\n",
    "Do not include any other text, explanations, or formatting.\"\"\",\n",
    "    execution_settings={\n",
    "        service_id: kernel.get_prompt_execution_settings_from_service_id(service_id)\n",
    "    }\n",
    ")"
   ]
  },
  {
   "cell_type": "markdown",
   "id": "router_function",
   "metadata": {},
   "source": [
    "Create router function to determine which agent to use"
   ]
  },
  {
   "cell_type": "code",
   "execution_count": null,
   "id": "router_impl",
   "metadata": {},
   "outputs": [],
   "source": [
    "async def route_query(user_message: str) -> str:\n",
    "    \"\"\"\n",
    "    Route user query to appropriate agent\n",
    "    \"\"\"\n",
    "    chat_history = ChatHistory()\n",
    "    chat_history.add_user_message(user_message)\n",
    "    \n",
    "    # Get routing decision\n",
    "    async for response in router_agent.invoke(chat_history):\n",
    "        try:\n",
    "            # Parse the JSON response\n",
    "            routing_result = json.loads(str(response.content))\n",
    "            agent_choice = routing_result.get(\"agent\", \"unknown\")\n",
    "            print(f\"Router decision: {agent_choice}\")\n",
    "            return agent_choice\n",
    "        except json.JSONDecodeError:\n",
    "            print(f\"Failed to parse router response: {response.content}\")\n",
    "            return \"unknown\"\n",
    "        break\n",
    "    return \"unknown\""
   ]
  },
  {
   "cell_type": "markdown",
   "id": "supervisor_function",
   "metadata": {},
   "source": [
    "Create supervisor function to coordinate agents"
   ]
  },
  {
   "cell_type": "code",
   "execution_count": null,
   "id": "supervisor_impl",
   "metadata": {},
   "outputs": [],
   "source": [
    "async def supervisor_agent(user_message: str) -> str:\n",
    "    \"\"\"\n",
    "    Supervisor that routes queries to appropriate specialized agents\n",
    "    \"\"\"\n",
    "    # Route the query\n",
    "    agent_choice = await route_query(user_message)\n",
    "    \n",
    "    # Create chat history for the chosen agent\n",
    "    chat_history = ChatHistory()\n",
    "    chat_history.add_user_message(user_message)\n",
    "    \n",
    "    if agent_choice == \"weather\":\n",
    "        print(\"→ Routing to Weather Agent\")\n",
    "        async for response in weather_agent.invoke(chat_history):\n",
    "            return str(response.content)\n",
    "            \n",
    "    elif agent_choice == \"travel\":\n",
    "        print(\"→ Routing to Travel Agent\")\n",
    "        async for response in travel_agent.invoke(chat_history):\n",
    "            return str(response.content)\n",
    "            \n",
    "    else:\n",
    "        print(\"→ Query type unknown\")\n",
    "        return (\"I can not assist with that request. \"\n",
    "               \"Could you please rephrase or ask something else? \"\n",
    "               \"I can help you with travel advice or weather information.\")\n",
    "    \n",
    "    return \"Sorry, I couldn't process your request.\""
   ]
  },
  {
   "cell_type": "markdown",
   "id": "test_routing",
   "metadata": {},
   "source": [
    "Test the routing system"
   ]
  },
  {
   "cell_type": "code",
   "execution_count": null,
   "id": "test_weather",
   "metadata": {},
   "outputs": [],
   "source": [
    "# Test weather routing\n",
    "weather_query = \"What's the weather like in New York?\"\n",
    "print(f\"User: {weather_query}\")\n",
    "response = await supervisor_agent(weather_query)\n",
    "print(f\"Assistant: {response}\\n\")"
   ]
  },
  {
   "cell_type": "code",
   "execution_count": null,
   "id": "test_travel",
   "metadata": {},
   "outputs": [],
   "source": [
    "# Test travel routing\n",
    "travel_query = \"I want to visit a place with cats\"\n",
    "print(f\"User: {travel_query}\")\n",
    "response = await supervisor_agent(travel_query)\n",
    "print(f\"Assistant: {response}\\n\")"
   ]
  },
  {
   "cell_type": "code",
   "execution_count": null,
   "id": "test_unknown",
   "metadata": {},
   "outputs": [],
   "source": [
    "# Test unknown routing\n",
    "unknown_query = \"What's 2 + 2?\"\n",
    "print(f\"User: {unknown_query}\")\n",
    "response = await supervisor_agent(unknown_query)\n",
    "print(f\"Assistant: {response}\\n\")"
   ]
  },
  {
   "cell_type": "markdown",
   "id": "multi_step_demo",
   "metadata": {},
   "source": [
    "## Multi-turn conversation example"
   ]
  },
  {
   "cell_type": "code",
   "execution_count": null,
   "id": "conversation_demo",
   "metadata": {},
   "outputs": [],
   "source": [
    "# Simulate a multi-turn conversation\n",
    "queries = [\n",
    "    \"What can you tell me about the weather in Mumbai?\",\n",
    "    \"How about Chicago weather?\",\n",
    "    \"I want to travel somewhere warm and sunny\"\n",
    "]\n",
    "\n",
    "print(\"=== Multi-turn Conversation ===\")\n",
    "for query in queries:\n",
    "    print(f\"\\nUser: {query}\")\n",
    "    response = await supervisor_agent(query)\n",
    "    print(f\"Assistant: {response}\")"
   ]
  },
  {
   "cell_type": "markdown",
   "id": "key_differences",
   "metadata": {},
   "source": [
    "## Key Differences from LangChain Routing\n",
    "\n",
    "1. **Agent-Based Architecture**: Semantic Kernel uses `ChatCompletionAgent` objects as first-class citizens, each with their own specialized kernels and capabilities.\n",
    "\n",
    "2. **Simplified Routing Logic**: Instead of complex graph structures, we use a simple async function to coordinate between agents.\n",
    "\n",
    "3. **Service Isolation**: Each agent has its own kernel with specific services and plugins, providing better separation of concerns.\n",
    "\n",
    "4. **Cleaner State Management**: No need for complex state graphs - each agent manages its own conversation state.\n",
    "\n",
    "5. **Flexible Coordination**: The supervisor function can easily be extended to handle more complex routing logic, multi-agent collaboration, or conditional workflows.\n",
    "\n",
    "6. **Natural Language Routing**: The router agent uses natural language understanding rather than rigid rule-based routing.\n",
    "\n",
    "7. **Plugin Ecosystem**: Each specialized agent can have its own set of plugins, making it easy to extend capabilities without affecting other agents.\n",
    "\n",
    "This approach provides better modularity and makes it easier to add new specialized agents or modify existing ones without affecting the overall system architecture.\n",
    "\n",
    "### Benefits:\n",
    "\n",
    "- **Scalability**: Easy to add new specialized agents\n",
    "- **Maintainability**: Each agent is self-contained\n",
    "- **Flexibility**: Simple to modify routing logic\n",
    "- **Testability**: Each agent can be tested independently\n",
    "- **Performance**: Agents only load the capabilities they need\""
   ]
  }
 ],
 "metadata": {
  "kernelspec": {
   "display_name": "Python 3",
   "language": "python",
   "name": "python3"
  },
  "language_info": {
   "codemirror_mode": {
    "name": "ipython",
    "version": 3
   },
   "file_extension": ".py",
   "mimetype": "text/x-python",
   "name": "python",
   "nbconvert_exporter": "python",
   "pygments_lexer": "ipython3",
   "version": "3.11.9"
  }
 },
 "nbformat": 4,
 "nbformat_minor": 5
}